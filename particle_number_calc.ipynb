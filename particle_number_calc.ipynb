{
 "cells": [
  {
   "cell_type": "code",
   "execution_count": 2,
   "metadata": {},
   "outputs": [
    {
     "name": "stdout",
     "output_type": "stream",
     "text": [
      "Volume is 2.70E-23L\n",
      "Number of water molecules in box: 903\n"
     ]
    }
   ],
   "source": [
    "#Volume in L of Box if Cubic\n",
    "nm=3\n",
    "nm=nm*1E-9\n",
    "vol=(nm*nm*nm)*1E3\n",
    "print('Volume is '+'%.2E'%vol+'L')\n",
    "\n",
    "#Particles of water in box\n",
    "waters=55.55*vol*6.022E23\n",
    "print('Number of water molecules in box: '+'%.0f'%waters)\n",
    "\n",
    "#Molarity calculation from molality, particle number\n",
    "def particles(m,dens,mm_solute):\n",
    "    grams_solute=m*mm_solute\n",
    "    grams_soln=1000+grams_solute\n",
    "    liters_soln=(grams_soln/dens)/1000\n",
    "    molarity_final=m/liters_soln\n",
    "    moles=molarity_final*vol\n",
    "    molecules=moles*6.022E23\n",
    "    mole_fctn=55.55/(molarity_final+55.55)\n",
    "    return print('Molality is '+'%.2f'%m+'m'+' and Molarity is '+'%.2f'%molarity_final+'M'), print('Number of particles of solute: '+'%.0f'%molecules), print('Mole Fraction: '+'%.3f'%mole_fctn)"
   ]
  },
  {
   "cell_type": "code",
   "execution_count": 6,
   "metadata": {},
   "outputs": [
    {
     "name": "stdout",
     "output_type": "stream",
     "text": [
      "Molality is 0.60m and Molarity is 0.59M\n",
      "Number of particles of solute: 10\n",
      "Mole Fraction: 0.989\n",
      "Molality is 1.00m and Molarity is 0.98M\n",
      "Number of particles of solute: 16\n",
      "Mole Fraction: 0.983\n",
      "Molality is 2.00m and Molarity is 1.92M\n",
      "Number of particles of solute: 31\n",
      "Mole Fraction: 0.967\n",
      "Molality is 3.00m and Molarity is 2.82M\n",
      "Number of particles of solute: 46\n",
      "Mole Fraction: 0.952\n",
      "Molality is 4.00m and Molarity is 3.69M\n",
      "Number of particles of solute: 60\n",
      "Mole Fraction: 0.938\n",
      "Molality is 5.00m and Molarity is 4.51M\n",
      "Number of particles of solute: 73\n",
      "Mole Fraction: 0.925\n"
     ]
    },
    {
     "data": {
      "text/plain": [
       "(None, None, None)"
      ]
     },
     "execution_count": 6,
     "metadata": {},
     "output_type": "execute_result"
    }
   ],
   "source": [
    "#check aqueous NaCl density https://advancedthermo.com/electrolytes/density_NaCl_Jun2021.html\n",
    "#specify molality desired, density of solute (g/mL), molar mass of solute (g/mol)\n",
    "particles(0.6,1.02098,58.44)\n",
    "particles(1,1.03621,58.44)\n",
    "particles(2,1.07227,58.44)\n",
    "particles(3,1.10579,58.44)\n",
    "particles(4,1.13709,58.44)\n",
    "particles(5,1.16644,58.44)"
   ]
  },
  {
   "cell_type": "code",
   "execution_count": null,
   "metadata": {},
   "outputs": [],
   "source": []
  },
  {
   "cell_type": "code",
   "execution_count": 5,
   "metadata": {},
   "outputs": [],
   "source": []
  },
  {
   "cell_type": "code",
   "execution_count": null,
   "metadata": {},
   "outputs": [],
   "source": []
  }
 ],
 "metadata": {
  "kernelspec": {
   "display_name": "gromacs",
   "language": "python",
   "name": "python3"
  },
  "language_info": {
   "codemirror_mode": {
    "name": "ipython",
    "version": 3
   },
   "file_extension": ".py",
   "mimetype": "text/x-python",
   "name": "python",
   "nbconvert_exporter": "python",
   "pygments_lexer": "ipython3",
   "version": "3.11.5"
  },
  "orig_nbformat": 4
 },
 "nbformat": 4,
 "nbformat_minor": 2
}
