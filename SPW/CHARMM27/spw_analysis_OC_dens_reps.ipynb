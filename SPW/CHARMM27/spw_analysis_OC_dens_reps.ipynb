{
 "cells": [
  {
   "cell_type": "markdown",
   "metadata": {},
   "source": [
    "## Imports"
   ]
  },
  {
   "cell_type": "code",
   "execution_count": 1,
   "metadata": {},
   "outputs": [
    {
     "name": "stderr",
     "output_type": "stream",
     "text": [
      "/tmp/ipykernel_7840/123884183.py:3: DeprecationWarning: \n",
      "Pyarrow will become a required dependency of pandas in the next major release of pandas (pandas 3.0),\n",
      "(to allow more performant data types, such as the Arrow string type, and better interoperability with other libraries)\n",
      "but was not found to be installed on your system.\n",
      "If this would cause problems for you,\n",
      "please provide us feedback at https://github.com/pandas-dev/pandas/issues/54466\n",
      "        \n",
      "  import pandas as pd\n",
      "Warning on use of the timeseries module: If the inherent timescales of the system are long compared to those being analyzed, this statistical inefficiency may be an underestimate.  The estimate presumes the use of many statistically independent samples.  Tests should be performed to assess whether this condition is satisfied.   Be cautious in the interpretation of the data.\n",
      "\n",
      "****** PyMBAR will use 64-bit JAX! *******\n",
      "* JAX is currently set to 32-bit bitsize *\n",
      "* which is its default.                  *\n",
      "*                                        *\n",
      "* PyMBAR requires 64-bit mode and WILL   *\n",
      "* enable JAX's 64-bit mode when called.  *\n",
      "*                                        *\n",
      "* This MAY cause problems with other     *\n",
      "* Uses of JAX in the same code.          *\n",
      "******************************************\n",
      "\n"
     ]
    }
   ],
   "source": [
    "import MDAnalysis as mda\n",
    "import numpy as np\n",
    "import pandas as pd\n",
    "import matplotlib.pyplot as plt\n",
    "from MDAnalysis.lib.distances import distance_array\n",
    "from MDAnalysis import units\n",
    "from MDAnalysis.analysis import rdf\n",
    "from openmm.unit import AVOGADRO_CONSTANT_NA, BOLTZMANN_CONSTANT_kB\n",
    "from openmm.unit import kelvin, bar, litre, kilojoule_per_mole, mole, nanometer, angstrom, kilocalorie_per_mole\n",
    "from openmm.unit import Quantity, Unit\n",
    "import quantities\n",
    "from matplotlib import colors\n",
    "from matplotlib.ticker import PercentFormatter\n",
    "from pymbar import timeseries\n",
    "from MDAnalysis.analysis import density\n",
    "from tqdm import tqdm\n"
   ]
  },
  {
   "cell_type": "markdown",
   "metadata": {},
   "source": [
    "## Loading data and creating atom group of ions"
   ]
  },
  {
   "cell_type": "code",
   "execution_count": 2,
   "metadata": {},
   "outputs": [],
   "source": [
    "u = mda.Universe('md.gro', 'md.xtc')\n",
    "u.transfer_to_memory()\n",
    "ions= u.select_atoms('resname SOD CLA')\n",
    "\n",
    "u1 = mda.Universe('mdr1.gro', 'mdr1.xtc')\n",
    "u1.transfer_to_memory()\n",
    "ions1= u1.select_atoms('resname SOD CLA')\n",
    "\n",
    "u2 = mda.Universe('mdr2.gro', 'mdr2.xtc')\n",
    "u2.transfer_to_memory()\n",
    "ions2= u2.select_atoms('resname SOD CLA')\n",
    "\n",
    "u3 = mda.Universe('mdr3.gro', 'mdr3.xtc')\n",
    "u3.transfer_to_memory()\n",
    "ions3= u3.select_atoms('resname SOD CLA')\n",
    "\n",
    "\n"
   ]
  },
  {
   "cell_type": "markdown",
   "metadata": {},
   "source": [
    "## Function for calculating osmotic values:"
   ]
  },
  {
   "cell_type": "code",
   "execution_count": 9,
   "metadata": {},
   "outputs": [],
   "source": [
    "def SPW_analysis(u, ions, repnum):\n",
    "\n",
    "## loading data\n",
    "        \n",
    "    if repnum == 0:\n",
    "        print(\"Data for original run\")\n",
    "    else:\n",
    "        print(\"Data for replicate #\",repnum)\n",
    "\n",
    "    box_size = u.dimensions[:3] * angstrom\n",
    "    wall1=box_size[2]/2-24*angstrom\n",
    "    wall2=box_size[2]/2+24*angstrom\n",
    "    R = BOLTZMANN_CONSTANT_kB * AVOGADRO_CONSTANT_NA # gas constant\n",
    "\n",
    "    box_x = box_size[0]\n",
    "    box_y = box_size[1]\n",
    "\n",
    "    A_box = box_x * box_y \n",
    "\n",
    "    dim_mem = wall2-wall1\n",
    "    V_mem = A_box * dim_mem\n",
    "    #print(V_mem)\n",
    "\n",
    "    n_part = 65\n",
    "    M = n_part / (V_mem * AVOGADRO_CONSTANT_NA)\n",
    "    M = M.in_units_of(mole / litre)\n",
    "    #print(M)\n",
    "\n",
    "## calculation of osmotic values\n",
    "\n",
    "    def osmotic_values(mean_force_wall, molarity :Quantity, vant_hoff : int=2, T=300*kelvin, cross_sectional_area : Quantity=48*48 * angstrom**2 ):\n",
    "        osm_press=mean_force_wall/cross_sectional_area\n",
    "        osm_bar = osm_press.in_units_of(bar / mole)\n",
    "        osm_bar = osm_bar/AVOGADRO_CONSTANT_NA\n",
    "        print(f\"Osmotic Pressure Observed:\", osm_bar)\n",
    "        osm_press_ideal=vant_hoff*molarity*R*T\n",
    "        osm_press_ideal=osm_press_ideal.in_units_of(bar)\n",
    "        print(f\"Osmotic Pressure Ideal:\", osm_press_ideal)\n",
    "        osm_coeff=osm_bar/osm_press_ideal\n",
    "        print(f\"Osmotic Coefficient:\", osm_coeff)\n",
    "        op_error=(abs(osm_bar-osm_press_ideal)/osm_press_ideal)*100\n",
    "        print(f\"Osmotic Pressure Error:\", op_error)\n",
    "        oc_error=(abs(osm_coeff-0.94)/osm_coeff)*100\n",
    "        print(f\"Osmotic Coefficient Error:\", oc_error)\n",
    "        return osm_bar,osm_coeff\n",
    "\n",
    "    def osmotic_values_noprint(mean_force_wall, molarity=M, vant_hoff:int=2, T=300*kelvin, cross_sectional_area:Quantity=(wall1*wall2)):\n",
    "        osm_press=mean_force_wall/cross_sectional_area\n",
    "        osm_bar = osm_press.in_units_of(bar / mole)\n",
    "        osm_bar = osm_bar/AVOGADRO_CONSTANT_NA\n",
    "        osm_press_ideal=vant_hoff*molarity*R*T\n",
    "        osm_press_ideal=osm_press_ideal.in_units_of(bar)\n",
    "        osm_coeff=osm_bar/osm_press_ideal\n",
    "        op_error=(abs(osm_bar-osm_press_ideal)/osm_press_ideal)*100\n",
    "        return osm_bar,osm_coeff\n",
    "\n",
    "    def calculate_net_force(z_values : np.ndarray[float], zwall : float, k : float) -> float:\n",
    "        return k * abs(z_values - zwall).sum()\n",
    "\n",
    "## calculation of mean force\n",
    "\n",
    "    k_nm = 4184 * kilojoule_per_mole / nanometer**2\n",
    "    k = k_nm.in_units_of(kilojoule_per_mole / angstrom**2)\n",
    "\n",
    "    walls_z_pos = np.array([48, 96]) * angstrom\n",
    "    forces_at_ts = {\n",
    "        48 : [],\n",
    "        96 : []\n",
    "    }\n",
    "\n",
    "    for _ in u.trajectory:\n",
    "        ions_z = ions.positions[:,2]*angstrom\n",
    "        force_48 = calculate_net_force(\n",
    "            z_values=ions_z[ions_z < wall1],\n",
    "            zwall=wall1,\n",
    "            k=k\n",
    "        )\n",
    "        forces_at_ts[48].append(force_48)\n",
    "\n",
    "        force_96 = calculate_net_force(\n",
    "            z_values=ions_z[ions_z > wall2],\n",
    "            zwall=wall2,\n",
    "            k=k\n",
    "        )\n",
    "        forces_at_ts[96].append(force_96)\n",
    "\n",
    "    mean_forces = {\n",
    "        abs_wall_z : sum(force_list, start=0*(kilojoule_per_mole / angstrom)) / len(u.trajectory)\n",
    "            for abs_wall_z, force_list in forces_at_ts.items()\n",
    "    }\n",
    "\n",
    "    #print('mean forces =', mean_forces)\n",
    "\n",
    "\n",
    "\n",
    "## calling calculation of osmotic values\n",
    "    \n",
    "    for wall_z_val, mF in mean_forces.items():\n",
    "        #print(wall_z_val)\n",
    "        o = osmotic_values(mF, molarity=M, cross_sectional_area=A_box)\n",
    "\n",
    "\n",
    "    # print(\"\\nAverage between 2 walls: \")\n",
    "    # av_mF=(mean_forces[48]+mean_forces[96])/2\n",
    "    # o = osmotic_values(av_mF, molarity=M, cross_sectional_area=A_box)\n",
    "\n",
    "## number of ions per z coordinate (both observed through the system and outside the walls)\n",
    "    ions_at_48=[]\n",
    "    ions_at_96=[]\n",
    "    zpositions=[]\n",
    "\n",
    "    for _ in u.trajectory:\n",
    "        ions_z = ions.positions[:,2]*angstrom\n",
    "        zpositions.append(ions_z)\n",
    "        z_values48=ions_z[ions_z < wall1]\n",
    "        z_values96=ions_z[ions_z > wall2]\n",
    "        ions_at_48.append(z_values48)\n",
    "        ions_at_96.append(z_values96)\n",
    "\n",
    "    # plt.hist(ions_at_48,bins='auto',edgecolor='blue')\n",
    "    # plt.xlabel('z coordinates (A)')\n",
    "    # plt.ylabel('Number of Ions')\n",
    "    # plt.title('Number of ions outside of wall at 4.8 nm')\n",
    "    # plt.axis([47, 48, 0, 2.5])\n",
    "    # # Display the plot\n",
    "    # plt.grid(True)\n",
    "    # plt.show()\n",
    "\n",
    "    # plt.hist(ions_at_96,bins='auto',edgecolor='red')\n",
    "    # plt.xlabel('z coordinates (A)')\n",
    "    # plt.ylabel('Number of Ions')\n",
    "    # plt.title('Number of ions outside of wall at 9.6 nm')\n",
    "    # plt.axis([96, 97, 0, 2.5])\n",
    "    # plt.grid(True)\n",
    "    # plt.show()\n",
    "\n",
    "    # plt.hist(zpositions,bins='auto',edgecolor='green')\n",
    "    # plt.xlabel('z coordinates (A)')\n",
    "    # plt.ylabel('Number of Ions')\n",
    "    # plt.title('Number of ions per z coordinate')\n",
    "    # plt.grid(True)\n",
    "    # plt.show()\n",
    "\n",
    "## plotting force vs time\n",
    "\n",
    "    list48=forces_at_ts[48]\n",
    "    list96=forces_at_ts[96]\n",
    "    f48=[]\n",
    "    f96=[]\n",
    "    time=[]\n",
    "    for i,ts in enumerate(u.trajectory):\n",
    "        time.append(u.trajectory.time)\n",
    "        val48=list48[i]\n",
    "        val96=list96[i]\n",
    "        f48.append(val48.item())\n",
    "        f96.append(val96.item())\n",
    "\n",
    "    # plt.plot(time,f96, color='r', label='9.6 nm')\n",
    "    # plt.plot(time,f48, color='g', label='4.8 nm')\n",
    "    # plt.ylabel(\"Forces\")\n",
    "    # plt.xlabel(\"Time\")\n",
    "    # plt.title(\"Forces vs time\")\n",
    "    # plt.legend()\n",
    "    # plt.show()\n",
    "\n",
    "    print(\"----------------------------------------------------------------\")\n",
    "\n",
    "## calculation of autocorrelation function and plot of uncorrelated samples\n",
    "    \n",
    "    fts48=np.array(f48)\n",
    "    fts96=np.array(f96)\n",
    "\n",
    "    nskip=100\n",
    "    t0, g, Neff_max = timeseries.detect_equilibration(fts48,nskip=nskip) # compute indices of uncorrelated timeseries\n",
    "    fts48_equil = fts48[t0:]\n",
    "    indices48 = timeseries.subsample_correlated_data(fts48_equil, g=g)\n",
    "    fts48_s = fts48_equil[indices48]\n",
    "\n",
    "    indt48=[]\n",
    "    for i in indices48:\n",
    "        indt48.append(time[i])\n",
    "\n",
    "    print(\"---Wall 4.8 nm---\")\n",
    "    print('t0 =', t0,' g =',g,' Neff_max =', Neff_max)\n",
    "    #mean of full time series\n",
    "    meanf48=np.mean(f48)\n",
    "    meanf48=meanf48*kilojoule_per_mole/angstrom\n",
    "    #stdev of the full timeseries devided by sqrt of the number of effective samples -1\n",
    "    sterrf48=np.std(f48)/np.sqrt(len(indt48)-1)\n",
    "    # squared_diff48 = (f48*kilojoule_per_mole/angstrom - meanf48) ** 2\n",
    "    varf48 = sterrf48**2\n",
    "\n",
    "    print(f\"Mean = {meanf48}, std error = {sterrf48}, variance = {varf48}\",'\\n')\n",
    "\n",
    "    # plt.plot(time,f48)\n",
    "    # plt.scatter(indt48, fts48_s, color='m', marker='o')\n",
    "    # plt.ylabel(\"Forces\")\n",
    "    # plt.xlabel(\"Time\")\n",
    "    # plt.title(\"Forces at 4.8 nm Wall\")\n",
    "    # plt.show()\n",
    "\n",
    "    t0, g, Neff_max = timeseries.detect_equilibration(fts96,nskip=nskip) # compute indices of uncorrelated timeseries\n",
    "    fts96_equil = fts96[t0:]\n",
    "    indices96 = timeseries.subsample_correlated_data(fts96_equil, g=g)\n",
    "    fts96_s = fts96_equil[indices96]\n",
    "\n",
    "    indt96=[]\n",
    "    for i in indices96:\n",
    "        indt96.append(time[i])\n",
    "\n",
    "\n",
    "    print(\"---Wall 9.6 nm---\")\n",
    "    #statistical values of t0 (time after equil), g (statistical efficiency/correlation time of equil data), Neff (# of eff samples)\n",
    "    print('t0 =', t0,' g =',g,' Neff_max =', Neff_max)\n",
    "    #mean of full time series\n",
    "    meanf96=np.mean(f96)\n",
    "    meanf96=meanf96*mF.unit\n",
    "    #stdev of the full timeseries devided by sqrt of the number of effective samples -1\n",
    "    sterrf96=np.std(f96)/np.sqrt(len(indt96)-1)\n",
    "    # squared_diff96 = (f96*kilojoule_per_mole/angstrom - meanf96) ** 2\n",
    "    varf96 = sterrf96**2\n",
    "    print(f\"Mean = {meanf96}, std error = {sterrf96}, variance = {varf96}\",'\\n')\n",
    "\n",
    "    # plt.plot(time, f96, c='g')\n",
    "    # plt.scatter(indt96, fts96_s, color='m', marker='o')\n",
    "    # plt.ylabel(\"Forces\")\n",
    "    # plt.xlabel(\"Time\")\n",
    "    # plt.title(\"Forces at 9.6 nm Wall\")\n",
    "    # plt.show()\n",
    "\n",
    "    def comb_SEM(sem1,sem2,n1,n2):\n",
    "        \"\"\"\n",
    "        Calculate the standard error of the mean for combined data.\n",
    "\n",
    "        Args:\n",
    "        sem1 (float): Standard error of the mean for the first set of data.\n",
    "        sem2 (float): Standard error of the mean for the second set of data.\n",
    "        n1 (int): Sample size of the first set of data.\n",
    "        n2 (int): Sample size of the second set of data.\n",
    "\n",
    "        Returns:\n",
    "        float: The standard error of the mean for combined data.\n",
    "        \"\"\"\n",
    "        combined_sem = np.sqrt((sem1**2 * (n1 - 1) + sem2**2 * (n2 - 1)) / (n1 + n2 - 2))\n",
    "        return combined_sem\n",
    "    \n",
    "    print(\"---Statistical Analysis results---\")\n",
    "    #average between two walls\n",
    "    statmeanF=(meanf48+meanf96)/2\n",
    "    errvar=np.sqrt((varf48+varf96)/2)\n",
    "    comberror=comb_SEM(sterrf48,sterrf96,len(indt48),len(indt96))\n",
    "    print(f'Mean force between two walls: {statmeanF}')\n",
    "    print(f'Mean std error between two walls: +/-{comberror} or {errvar}')\n",
    "    \n",
    "    errvar=errvar*(kilojoule_per_mole/angstrom)\n",
    "    print(\"------------------------------------------------------------------------\")\n",
    "\n",
    "    print(f\"FINAL STATISTICAL RESULTS:\")\n",
    "    \n",
    "    print(\"------------------------------------------------------------------------\")   \n",
    "    #calculation of osmotic values from statistical mean and std error\n",
    "    osmval = osmotic_values_noprint(statmeanF, molarity=M, cross_sectional_area=A_box) \n",
    "    osmerr = osmotic_values_noprint(errvar, molarity=M, cross_sectional_area=A_box)\n",
    "\n",
    "    print(f\"Osmotic Pressure = {osmval[0]} +/- {osmerr[0]} \\nOsmotic Coefficient = {osmval[1]} +/- {osmerr[1]}\")\n",
    "\n",
    "    return osmval[0],osmerr[0],M"
   ]
  },
  {
   "cell_type": "code",
   "execution_count": 10,
   "metadata": {},
   "outputs": [
    {
     "name": "stdout",
     "output_type": "stream",
     "text": [
      "Data for original run\n",
      "Osmotic Pressure Observed: 53.588458676653325 bar\n",
      "Osmotic Pressure Ideal: 48.688251410590276 bar\n",
      "Osmotic Coefficient: 1.1006445523117965\n",
      "Osmotic Pressure Error: 10.064455231179643\n",
      "Osmotic Coefficient Error: 14.5954978811623\n",
      "Osmotic Pressure Observed: 45.42034641513391 bar\n",
      "Osmotic Pressure Ideal: 48.688251410590276 bar\n",
      "Osmotic Coefficient: 0.9328810359629068\n",
      "Osmotic Pressure Error: 6.711896403709323\n",
      "Osmotic Coefficient Error: 0.7631159561245681\n",
      "----------------------------------------------------------------\n",
      "---Wall 4.8 nm---\n",
      "t0 = 0  g = 2.5294485  Neff_max = 396.1338\n",
      "Mean = 7.4354052386822165 kJ/(A mol), std error = 0.4959716177125515, variance = 0.24598784557640532 \n",
      "\n",
      "---Wall 9.6 nm---\n",
      "t0 = 0  g = 1.4182512  Neff_max = 706.5039\n",
      "Mean = 6.302078656816817 kJ/(A mol), std error = 0.3286609869085206, variance = 0.10801804431568274 \n",
      "\n",
      "---Statistical Analysis results---\n",
      "Mean force between two walls: 6.868741947749516 kJ/(A mol)\n",
      "Mean std error between two walls: +/-0.3969404812783494 or 0.42071717928561464\n",
      "------------------------------------------------------------------------\n",
      "FINAL STATISTICAL RESULTS:\n",
      "------------------------------------------------------------------------\n",
      "Osmotic Pressure = 49.50440254589345 bar +/- 3.032193196332233 bar \n",
      "Osmotic Coefficient = 1.0167627941373483 +/- 0.06227771810413991\n"
     ]
    }
   ],
   "source": [
    "original=SPW_analysis(u,ions,0)\n"
   ]
  },
  {
   "cell_type": "code",
   "execution_count": 11,
   "metadata": {},
   "outputs": [
    {
     "name": "stdout",
     "output_type": "stream",
     "text": [
      "Data for replicate # 1\n",
      "Osmotic Pressure Observed: 51.7930597418564 bar\n",
      "Osmotic Pressure Ideal: 48.688251410590276 bar\n",
      "Osmotic Coefficient: 1.0637691484354848\n",
      "Osmotic Pressure Error: 6.376914843548469\n",
      "Osmotic Coefficient Error: 11.634963151311126\n",
      "Osmotic Pressure Observed: 49.69510731592482 bar\n",
      "Osmotic Pressure Ideal: 48.688251410590276 bar\n",
      "Osmotic Coefficient: 1.0206796480909468\n",
      "Osmotic Pressure Error: 2.067964809094671\n",
      "Osmotic Coefficient Error: 7.90450247948492\n",
      "----------------------------------------------------------------\n",
      "---Wall 4.8 nm---\n",
      "t0 = 200  g = 1.3233827  Neff_max = 606.0227\n",
      "Mean = 7.186293415446858 kJ/(A mol), std error = 0.3878772299720505, variance = 0.15044874553079093 \n",
      "\n",
      "---Wall 9.6 nm---\n",
      "t0 = 0  g = 1.9389422  Neff_max = 516.7766\n",
      "Mean = 6.895202258069081 kJ/(A mol), std error = 0.4175203759999675, variance = 0.17432326437515425 \n",
      "\n",
      "---Statistical Analysis results---\n",
      "Mean force between two walls: 7.040747836757969 kJ/(A mol)\n",
      "Mean std error between two walls: +/-0.40180601964996 or 0.4029714691550415\n",
      "------------------------------------------------------------------------\n",
      "FINAL STATISTICAL RESULTS:\n",
      "------------------------------------------------------------------------\n",
      "Osmotic Pressure = 50.74408352889043 bar +/- 2.904296299862791 bar \n",
      "Osmotic Coefficient = 1.042224398263212 +/- 0.05965086475114348\n"
     ]
    }
   ],
   "source": [
    "r1=SPW_analysis(u1,ions1,1)"
   ]
  },
  {
   "cell_type": "code",
   "execution_count": 12,
   "metadata": {},
   "outputs": [
    {
     "name": "stdout",
     "output_type": "stream",
     "text": [
      "Data for replicate # 2\n",
      "Osmotic Pressure Observed: 45.253006570587836 bar\n",
      "Osmotic Pressure Ideal: 48.688251410590276 bar\n",
      "Osmotic Coefficient: 0.9294440703767967\n",
      "Osmotic Pressure Error: 7.055592962320338\n",
      "Osmotic Coefficient Error: 1.1357251027406\n",
      "Osmotic Pressure Observed: 52.00873597710481 bar\n",
      "Osmotic Pressure Ideal: 48.688251410590276 bar\n",
      "Osmotic Coefficient: 1.0681988872122916\n",
      "Osmotic Pressure Error: 6.819888721229147\n",
      "Osmotic Coefficient Error: 12.001406175104327\n",
      "----------------------------------------------------------------\n",
      "---Wall 4.8 nm---\n",
      "t0 = 0  g = 2.0500963  Neff_max = 488.75754\n",
      "Mean = 6.278860232784794 kJ/(A mol), std error = 0.40257657737968494, variance = 0.16206790065474147 \n",
      "\n",
      "---Wall 9.6 nm---\n",
      "t0 = 0  g = 1.2235341  Neff_max = 818.93915\n",
      "Mean = 7.21621851963954 kJ/(A mol), std error = 0.32680712816937046, variance = 0.10680289902231134 \n",
      "\n",
      "---Statistical Analysis results---\n",
      "Mean force between two walls: 6.747539376212167 kJ/(A mol)\n",
      "Mean std error between two walls: +/-0.35702807344328313 or 0.36665433290570343\n",
      "------------------------------------------------------------------------\n",
      "FINAL STATISTICAL RESULTS:\n",
      "------------------------------------------------------------------------\n",
      "Osmotic Pressure = 48.63087127384613 bar +/- 2.642551405983011 bar \n",
      "Osmotic Coefficient = 0.9988214787945402 +/- 0.05427492936023216\n"
     ]
    }
   ],
   "source": [
    "r2=SPW_analysis(u2,ions2,2)"
   ]
  },
  {
   "cell_type": "code",
   "execution_count": 13,
   "metadata": {},
   "outputs": [
    {
     "name": "stdout",
     "output_type": "stream",
     "text": [
      "Data for replicate # 3\n",
      "Osmotic Pressure Observed: 49.256554145886106 bar\n",
      "Osmotic Pressure Ideal: 48.688251410590276 bar\n",
      "Osmotic Coefficient: 1.0116722765519615\n",
      "Osmotic Pressure Error: 1.167227655196132\n",
      "Osmotic Coefficient Error: 7.084535003394479\n",
      "Osmotic Pressure Observed: 49.270374064924496 bar\n",
      "Osmotic Pressure Ideal: 48.688251410590276 bar\n",
      "Osmotic Coefficient: 1.0119561215995447\n",
      "Osmotic Pressure Error: 1.195612159954469\n",
      "Osmotic Coefficient Error: 7.110596997605747\n",
      "----------------------------------------------------------------\n",
      "---Wall 4.8 nm---\n",
      "t0 = 0  g = 1.2679571  Neff_max = 790.24756\n",
      "Mean = 6.834352951735765 kJ/(A mol), std error = 0.3352509847419536, variance = 0.1123932227704496 \n",
      "\n",
      "---Wall 9.6 nm---\n",
      "t0 = 0  g = 2.4227986  Neff_max = 413.57132\n",
      "Mean = 6.836270467203695 kJ/(A mol), std error = 0.4661626047847726, variance = 0.21730757409972412 \n",
      "\n",
      "---Statistical Analysis results---\n",
      "Mean force between two walls: 6.83531170946973 kJ/(A mol)\n",
      "Mean std error between two walls: +/-0.3852062104362766 or 0.40601773167570754\n",
      "------------------------------------------------------------------------\n",
      "FINAL STATISTICAL RESULTS:\n",
      "------------------------------------------------------------------------\n",
      "Osmotic Pressure = 49.263464105405106 bar +/- 2.926251325576478 bar \n",
      "Osmotic Coefficient = 1.011814199075749 +/- 0.06010179541876058\n"
     ]
    }
   ],
   "source": [
    "r3=SPW_analysis(u3,ions3,3)"
   ]
  },
  {
   "cell_type": "markdown",
   "metadata": {},
   "source": [
    "## Stdev between replicates"
   ]
  },
  {
   "cell_type": "code",
   "execution_count": null,
   "metadata": {},
   "outputs": [
    {
     "name": "stdout",
     "output_type": "stream",
     "text": [
      "0.07094055576647088\n"
     ]
    }
   ],
   "source": [
    "meanFs=[mF_r1,mF_r2,mF_r3]\n",
    "#rep_stdev=np.std(meanFs)\n",
    "means = np.mean(meanFs, axis=-1)  # Step 1: Calculate mean of each set of replicates\n",
    "std_devs = np.std(meanFs, axis=-1)  # Step 2: Calculate standard deviation of each set\n",
    "n = len(meanFs)  # Number of replicates\n",
    "ses = std_devs / np.sqrt(n)  # Step 3: Calculate standard error for each set\n",
    "print(ses)"
   ]
  },
  {
   "cell_type": "markdown",
   "metadata": {},
   "source": [
    "### Density profiles using GROMACS"
   ]
  },
  {
   "cell_type": "code",
   "execution_count": null,
   "metadata": {},
   "outputs": [
    {
     "data": {
      "image/png": "[encoded data removed]",
      "text/plain": [
       "<Figure size 640x480 with 1 Axes>"
      ]
     },
     "metadata": {},
     "output_type": "display_data"
    }
   ],
   "source": [
    "x,y = np.loadtxt(\"density_original.xvg\",comments=[\"@\", \"#\"],unpack=True)\n",
    "y=(y/nanometer**3)/(AVOGADRO_CONSTANT_NA)\n",
    "y=y.in_units_of(mole/litre)/2\n",
    "x1,y1 = np.loadtxt(\"dens_r1.xvg\",comments=[\"@\", \"#\"],unpack=True)\n",
    "y1=(y1/nanometer**3)/(AVOGADRO_CONSTANT_NA)\n",
    "y1=y1.in_units_of(mole/litre)/2\n",
    "x2,y2 = np.loadtxt(\"dens_r2.xvg\",comments=[\"@\", \"#\"],unpack=True)\n",
    "y2=(y2/nanometer**3)/(AVOGADRO_CONSTANT_NA)\n",
    "y2=y2.in_units_of(mole/litre)/2\n",
    "x3,y3 = np.loadtxt(\"dens_r3.xvg\",comments=[\"@\", \"#\"],unpack=True)\n",
    "y3=(y3/nanometer**3)/(AVOGADRO_CONSTANT_NA)\n",
    "y3=y3.in_units_of(mole/litre)/2\n",
    "plt.axvline(x = 4.8, color = 'gray', label = 'walls', linestyle = 'dashed')\n",
    "plt.axvline(x = 9.6, color = 'gray', linestyle = 'dashed')\n",
    "plt.axhline(y = 1, color = 'lightgray', linestyle = 'dashed')\n",
    "plt.plot(x,y, c='b', label='original')\n",
    "plt.plot(x1,y1, c='g', label='rep 1')\n",
    "plt.plot(x2,y2, c='c', label='rep 2')\n",
    "plt.plot(x3,y3, c='m', label='rep 3')\n",
    "plt.xlabel(\"Z coordinate (nm)\")\n",
    "plt.ylabel(\"Concentration (mol/L)\")\n",
    "plt.xticks(np.arange(0, 14.4, 1.0))\n",
    "plt.yticks(np.arange(0, 1.1, 0.1))\n",
    "plt.title('Concentration profile - CHARMM27')\n",
    "plt.legend()\n",
    "#plt.savefig(\"volume.png\", format=\"png\", dpi=300)\n",
    "plt.show()"
   ]
  },
  {
   "cell_type": "markdown",
   "metadata": {},
   "source": [
    "## Density profiles using MDanalysis"
   ]
  },
  {
   "cell_type": "code",
   "execution_count": null,
   "metadata": {},
   "outputs": [],
   "source": [
    "def density_profile(universe, atom_group, bin_width=0.5, dim='z', method='atom', frameby=1):\n",
    "    '''Calculate the partial density across the box'''\n",
    "\n",
    "    if isinstance(atom_group, str): # if provided selection language, make AtomGroup\n",
    "        ag = universe.select_atoms(atom_group)\n",
    "    else: # else assume input is AtomGroup\n",
    "        ag = atom_group\n",
    "\n",
    "    print(f'\\nCalculating the partial density profile of {atom_group} in the {dim} dimension...')\n",
    "\n",
    "    dims = {'x': 0, 'y': 1, 'z': 2}\n",
    "    d = dims[dim]\n",
    "    box = universe.dimensions[d]\n",
    "\n",
    "    n_bins = int(box / bin_width)\n",
    "    bins = np.linspace(0, box, num=n_bins)\n",
    "\n",
    "    counts = np.zeros(n_bins-1)\n",
    "        \n",
    "    if len(universe.trajectory) == 0:\n",
    "        for b in tqdm(range(n_bins-1)):\n",
    "            lb = bins[b]\n",
    "            ub = bins[b+1]\n",
    "            bin_atoms = universe.select_atoms(f'prop {dim} > {lb} and prop {dim} < {ub} and group ag', ag=ag)\n",
    "            if method in ['atom', 'atoms', 'all']:\n",
    "                counts[b] += len(bin_atoms)\n",
    "            elif method in ['molecule', 'mol', 'residue', 'res']: \n",
    "                counts[b] += bin_atoms.n_residues\n",
    "            elif method in ['mass', 'mass density']:\n",
    "                box_dims = [box[i] for i in range(3) if i != d]\n",
    "                dV = box_dims[0] * box_dims[1] * (ub-lb) * (10**-8)**3\n",
    "                mass = bin_atoms.masses.sum() / 6.022 / 10**23\n",
    "                counts[b] += mass / dV\n",
    "    else:\n",
    "        for ts in tqdm(universe.trajectory[::frameby]):\n",
    "            for b in range(n_bins-1):\n",
    "                lb = bins[b]\n",
    "                ub = bins[b+1]\n",
    "                bin_atoms = universe.select_atoms(f'prop {dim} > {lb} and prop {dim} < {ub} and group ag', ag=ag)\n",
    "\n",
    "                if method in ['atom', 'atoms', 'all', 'number']:\n",
    "                    counts[b] += len(bin_atoms)                 \n",
    "                elif method in ['molecule', 'mol', 'residue', 'res']: \n",
    "                    counts[b] += bin_atoms.n_residues\n",
    "                elif method in ['mass', 'mass density']:\n",
    "                    box_dims = [box[i] for i in range(3) if i != d]\n",
    "                    dV = box_dims[0] * box_dims[1] * (ub-lb) * (10**-8)**3\n",
    "                    mass = bin_atoms.masses.sum() / 6.022 / 10**23\n",
    "                    counts[b] += mass / dV\n",
    "\n",
    "        counts = counts / len(universe.trajectory[::frameby])\n",
    "\n",
    "    return bins, counts"
   ]
  },
  {
   "cell_type": "code",
   "execution_count": null,
   "metadata": {},
   "outputs": [
    {
     "name": "stdout",
     "output_type": "stream",
     "text": [
      "\n",
      "Calculating the partial density profile of <AtomGroup [<Atom 11101: SOD of type NA of resname SOD, resid 1 and segid SYSTEM>, <Atom 11102: SOD of type NA of resname SOD, resid 2 and segid SYSTEM>, <Atom 11103: SOD of type NA of resname SOD, resid 3 and segid SYSTEM>, ..., <Atom 11228: CLA of type CL of resname CLA, resid 63 and segid SYSTEM>, <Atom 11229: CLA of type CL of resname CLA, resid 64 and segid SYSTEM>, <Atom 11230: CLA of type CL of resname CLA, resid 65 and segid SYSTEM>]> in the z dimension...\n"
     ]
    },
    {
     "name": "stderr",
     "output_type": "stream",
     "text": [
      "100%|██████████| 1001/1001 [02:41<00:00,  6.20it/s]\n"
     ]
    },
    {
     "name": "stdout",
     "output_type": "stream",
     "text": [
      "\n",
      "Calculating the partial density profile of <AtomGroup [<Atom 11101: SOD of type NA of resname SOD, resid 1 and segid SYSTEM>, <Atom 11102: SOD of type NA of resname SOD, resid 2 and segid SYSTEM>, <Atom 11103: SOD of type NA of resname SOD, resid 3 and segid SYSTEM>, ..., <Atom 11228: CLA of type CL of resname CLA, resid 63 and segid SYSTEM>, <Atom 11229: CLA of type CL of resname CLA, resid 64 and segid SYSTEM>, <Atom 11230: CLA of type CL of resname CLA, resid 65 and segid SYSTEM>]> in the z dimension...\n"
     ]
    },
    {
     "name": "stderr",
     "output_type": "stream",
     "text": [
      "100%|██████████| 1001/1001 [02:33<00:00,  6.52it/s]\n"
     ]
    },
    {
     "name": "stdout",
     "output_type": "stream",
     "text": [
      "\n",
      "Calculating the partial density profile of <AtomGroup [<Atom 11101: SOD of type NA of resname SOD, resid 1 and segid SYSTEM>, <Atom 11102: SOD of type NA of resname SOD, resid 2 and segid SYSTEM>, <Atom 11103: SOD of type NA of resname SOD, resid 3 and segid SYSTEM>, ..., <Atom 11228: CLA of type CL of resname CLA, resid 63 and segid SYSTEM>, <Atom 11229: CLA of type CL of resname CLA, resid 64 and segid SYSTEM>, <Atom 11230: CLA of type CL of resname CLA, resid 65 and segid SYSTEM>]> in the z dimension...\n"
     ]
    },
    {
     "name": "stderr",
     "output_type": "stream",
     "text": [
      "100%|██████████| 1001/1001 [02:35<00:00,  6.43it/s]\n"
     ]
    },
    {
     "name": "stdout",
     "output_type": "stream",
     "text": [
      "\n",
      "Calculating the partial density profile of <AtomGroup [<Atom 11101: SOD of type NA of resname SOD, resid 1 and segid SYSTEM>, <Atom 11102: SOD of type NA of resname SOD, resid 2 and segid SYSTEM>, <Atom 11103: SOD of type NA of resname SOD, resid 3 and segid SYSTEM>, ..., <Atom 11228: CLA of type CL of resname CLA, resid 63 and segid SYSTEM>, <Atom 11229: CLA of type CL of resname CLA, resid 64 and segid SYSTEM>, <Atom 11230: CLA of type CL of resname CLA, resid 65 and segid SYSTEM>]> in the z dimension...\n"
     ]
    },
    {
     "name": "stderr",
     "output_type": "stream",
     "text": [
      "100%|██████████| 1001/1001 [02:42<00:00,  6.15it/s]\n"
     ]
    }
   ],
   "source": [
    "nbins,ncounts=density_profile(u,ions,2)\n",
    "nbins1,ncounts1=density_profile(u1,ions1,2)\n",
    "nbins2,ncounts2=density_profile(u2,ions2,2)\n",
    "nbins3,ncounts3=density_profile(u3,ions3,2)"
   ]
  },
  {
   "cell_type": "markdown",
   "metadata": {},
   "source": [
    "### Density plots"
   ]
  },
  {
   "cell_type": "code",
   "execution_count": null,
   "metadata": {},
   "outputs": [
    {
     "name": "stdout",
     "output_type": "stream",
     "text": [
      "[0.         0.         0.         0.         0.         0.\n",
      " 0.         0.         0.         0.         0.         0.\n",
      " 0.         0.         0.         0.         0.         0.\n",
      " 0.         0.         0.         0.         0.         0.50780948\n",
      " 1.021722   1.00179734 1.01884998 1.00287435 1.03159458 0.97433363\n",
      " 0.99910482 1.00125884 0.96266604 0.96320454 0.94974194 0.96912809\n",
      " 0.97576964 0.96984609 0.97289762 0.97343612 0.9829497  0.96876908\n",
      " 0.96158903 0.9447159  0.9195857  0.92856077 0.90935412 0.4469585\n",
      " 0.         0.         0.         0.         0.         0.\n",
      " 0.         0.         0.         0.         0.         0.\n",
      " 0.         0.         0.         0.         0.         0.\n",
      " 0.         0.         0.         0.         0.        ] mol/L\n"
     ]
    },
    {
     "data": {
      "image/png": "[encoded data removed]",
      "text/plain": [
       "<Figure size 640x480 with 1 Axes>"
      ]
     },
     "metadata": {},
     "output_type": "display_data"
    }
   ],
   "source": [
    "nb=144.4/72\n",
    "volbin=48*48*nb*angstrom**3\n",
    "counts=(ncounts/AVOGADRO_CONSTANT_NA)/volbin.in_units_of(litre)/2\n",
    "counts1=(ncounts1/AVOGADRO_CONSTANT_NA)/volbin.in_units_of(litre)/2\n",
    "counts2=(ncounts2/AVOGADRO_CONSTANT_NA)/volbin.in_units_of(litre)/2\n",
    "counts3=(ncounts3/AVOGADRO_CONSTANT_NA)/volbin.in_units_of(litre)/2\n",
    "\n",
    "bins=nbins/10\n",
    "bins1=nbins1/10\n",
    "bins2=nbins2/10\n",
    "bins3=nbins3/10\n",
    "\n",
    "print(counts)\n",
    "\n",
    "plt.axvline(x = 4.8, color = 'gray', label = 'walls', linestyle = 'dashed')\n",
    "plt.axvline(x = 9.6, color = 'gray', linestyle = 'dashed')\n",
    "plt.axhline(y = 1, color = 'lightgray', linestyle = 'dashed')\n",
    "plt.plot(bins[1:],counts, c='b', label='original')\n",
    "plt.plot(bins1[1:],counts1, c='g', label='rep1')\n",
    "plt.plot(bins2[1:],counts2, c='c', label='rep2')\n",
    "plt.plot(bins3[1:],counts3, c='m', label='rep3')\n",
    "\n",
    "plt.xlabel(\"Z coordinate (nm)\")\n",
    "plt.ylabel(\"Concentration (mol/L)\")\n",
    "plt.xticks(np.arange(0, 14.4, 1))\n",
    "plt.title(\"Concentration profile of replicates - CHARMM27\")\n",
    "plt.legend()\n",
    "plt.show()"
   ]
  },
  {
   "cell_type": "code",
   "execution_count": null,
   "metadata": {},
   "outputs": [],
   "source": []
  }
 ],
 "metadata": {
  "kernelspec": {
   "display_name": "mdanalysis",
   "language": "python",
   "name": "python3"
  },
  "language_info": {
   "codemirror_mode": {
    "name": "ipython",
    "version": 3
   },
   "file_extension": ".py",
   "mimetype": "text/x-python",
   "name": "python",
   "nbconvert_exporter": "python",
   "pygments_lexer": "ipython3",
   "version": "3.10.13"
  }
 },
 "nbformat": 4,
 "nbformat_minor": 2
}
