{
 "cells": [
  {
   "cell_type": "markdown",
   "metadata": {},
   "source": [
    "## Imports"
   ]
  },
  {
   "cell_type": "code",
   "execution_count": 1,
   "metadata": {},
   "outputs": [
    {
     "name": "stderr",
     "output_type": "stream",
     "text": [
      "/tmp/ipykernel_18466/3824394281.py:3: DeprecationWarning: \n",
      "Pyarrow will become a required dependency of pandas in the next major release of pandas (pandas 3.0),\n",
      "(to allow more performant data types, such as the Arrow string type, and better interoperability with other libraries)\n",
      "but was not found to be installed on your system.\n",
      "If this would cause problems for you,\n",
      "please provide us feedback at https://github.com/pandas-dev/pandas/issues/54466\n",
      "        \n",
      "  import pandas as pd\n",
      "Warning on use of the timeseries module: If the inherent timescales of the system are long compared to those being analyzed, this statistical inefficiency may be an underestimate.  The estimate presumes the use of many statistically independent samples.  Tests should be performed to assess whether this condition is satisfied.   Be cautious in the interpretation of the data.\n",
      "\n",
      "****** PyMBAR will use 64-bit JAX! *******\n",
      "* JAX is currently set to 32-bit bitsize *\n",
      "* which is its default.                  *\n",
      "*                                        *\n",
      "* PyMBAR requires 64-bit mode and WILL   *\n",
      "* enable JAX's 64-bit mode when called.  *\n",
      "*                                        *\n",
      "* This MAY cause problems with other     *\n",
      "* Uses of JAX in the same code.          *\n",
      "******************************************\n",
      "\n"
     ]
    }
   ],
   "source": [
    "import MDAnalysis as mda\n",
    "import numpy as np\n",
    "import pandas as pd\n",
    "import matplotlib.pyplot as plt\n",
    "from MDAnalysis.lib.distances import distance_array\n",
    "from MDAnalysis import units\n",
    "from MDAnalysis.analysis import rdf\n",
    "from openmm.unit import AVOGADRO_CONSTANT_NA, BOLTZMANN_CONSTANT_kB\n",
    "from openmm.unit import kelvin, bar, litre, kilojoule_per_mole, mole, nanometer, angstrom, kilocalorie_per_mole, molal, molar,grams,milliliter,kilogram\n",
    "from openmm.unit import Quantity, Unit\n",
    "import quantities\n",
    "from matplotlib import colors\n",
    "from matplotlib.ticker import PercentFormatter\n",
    "from pymbar import timeseries\n",
    "from MDAnalysis.analysis import density\n",
    "from tqdm import tqdm\n"
   ]
  },
  {
   "cell_type": "markdown",
   "metadata": {},
   "source": [
    "## Loading data and creating atom group of ions"
   ]
  },
  {
   "cell_type": "code",
   "execution_count": 3,
   "metadata": {},
   "outputs": [],
   "source": [
    "u = mda.Universe('md.gro', 'md.xtc')\n",
    "u.transfer_to_memory()\n",
    "ions= u.select_atoms('resname SOD CLA')\n",
    "\n",
    "u2 = mda.Universe('md2m.gro', 'md2m.xtc')\n",
    "u2.transfer_to_memory()\n",
    "ions2= u2.select_atoms('resname SOD CLA')\n",
    "\n",
    "# u2l = mda.Universe('md2ml.gro', 'md2ml.xtc')\n",
    "# u2l.transfer_to_memory()\n",
    "# ions2l= u2l.select_atoms('resname SOD CLA')\n",
    "\n",
    "u3 = mda.Universe('md3m.gro', 'md3m.xtc')\n",
    "u3.transfer_to_memory()\n",
    "ions3= u3.select_atoms('resname SOD CLA')\n",
    "\n",
    "# u3l = mda.Universe('md3ml.gro', 'md3ml.xtc')\n",
    "# u3l.transfer_to_memory()\n",
    "# ions3l= u3l.select_atoms('resname SOD CLA')"
   ]
  },
  {
   "cell_type": "code",
   "execution_count": 4,
   "metadata": {},
   "outputs": [
    {
     "name": "stdout",
     "output_type": "stream",
     "text": [
      "Osmotic Pressure Ideal: 48.68949309190537 bar\n",
      "Osmotic Pressure Ideal: 95.93226968825209 bar\n",
      "Osmotic Pressure Ideal: 140.83036782627957 bar\n",
      "Ideal Osmotic Pressure: 48.68949309190537 bar at concentraion 0.976 mol/L\n",
      "Osmotic Pressure from experimental osmotic coefficient: 45.57336553402343 bar\n",
      "Ideal Osmotic Pressure: 95.93226968825209 bar at concentraion 1.923 mol/L\n",
      "Osmotic Pressure from experimental osmotic coefficient: 94.39735337324005 bar\n",
      "Ideal Osmotic Pressure: 140.83036782627957 bar at concentraion 2.823 mol/L\n",
      "Osmotic Pressure from experimental osmotic coefficient: 147.16773437846214 bar\n"
     ]
    }
   ],
   "source": [
    "R = BOLTZMANN_CONSTANT_kB * AVOGADRO_CONSTANT_NA # gas constant\n",
    "\n",
    "\n",
    "def osmotic_ideal(molarity, vant_hoff:int=2, T=300*kelvin):\n",
    "    osm_press_ideal=vant_hoff*molarity*R*T\n",
    "    osm_press_ideal=osm_press_ideal.in_units_of(bar)\n",
    "    print(f\"Osmotic Pressure Ideal:\", osm_press_ideal)\n",
    "    return osm_press_ideal\n",
    "\n",
    "oi1=osmotic_ideal(0.976*(mole/litre),2,300*kelvin)\n",
    "oi2=osmotic_ideal(1.923*(mole/litre),2,300*kelvin)\n",
    "oi3=osmotic_ideal(2.823*(mole/litre),2,300*kelvin)\n",
    "\n",
    "def osm_experimental(exp_osm_coeff, molarity:Quantity=1*(mole/litre), vant_hoff:int=2, T=300*kelvin):\n",
    "    osm_press_ideal=vant_hoff*molarity*R*T\n",
    "    osm_press_ideal=osm_press_ideal.in_units_of(bar)\n",
    "    osm_bar=exp_osm_coeff*osm_press_ideal\n",
    "    op_error=(abs(osm_bar-osm_press_ideal)/osm_press_ideal)*100\n",
    "    print(f'Ideal Osmotic Pressure: {osm_press_ideal} at concentraion {molarity}')\n",
    "    print(f'Osmotic Pressure from experimental osmotic coefficient: {osm_bar}')\n",
    "    return osm_bar\n",
    "\n",
    "expOP_1m=osm_experimental(exp_osm_coeff=0.936,molarity=0.976*(mole/litre))\n",
    "expOP_2m=osm_experimental(exp_osm_coeff=0.984,molarity=1.923*(mole/litre))\n",
    "expOP_3m=osm_experimental(exp_osm_coeff=1.045,molarity=2.823*(mole/litre))"
   ]
  },
  {
   "cell_type": "markdown",
   "metadata": {},
   "source": [
    "## Function for calculating osmotic values:"
   ]
  },
  {
   "cell_type": "code",
   "execution_count": 5,
   "metadata": {},
   "outputs": [],
   "source": [
    "def SPW_analysis(u, ions, molal_conc):\n",
    "\n",
    "## defining variables\n",
    "    box_size = u.dimensions[:3] * angstrom\n",
    "    wall1=box_size[2]/2-24*angstrom\n",
    "    wall2=box_size[2]/2+24*angstrom\n",
    "    R = BOLTZMANN_CONSTANT_kB * AVOGADRO_CONSTANT_NA # gas constant\n",
    "\n",
    "    box_x = box_size[0]\n",
    "    box_y = box_size[1]\n",
    "\n",
    "    A_box = (box_x * box_y)\n",
    "\n",
    "    dim_mem = wall2-wall1\n",
    "    V_mem = A_box * dim_mem\n",
    "    #print(V_mem)\n",
    "    \n",
    "\n",
    "    if molal_conc == 1:\n",
    "        print(f'--Data for {molal_conc} m concentration--')\n",
    "        n_part = 65\n",
    "        nacl_dens=1.03621*(grams/milliliter)\n",
    "\n",
    "    elif molal_conc == 2:\n",
    "        print(f'--Data for {molal_conc} m concentration--')\n",
    "        n_part = 128\n",
    "        nacl_dens=1.07227*(grams/milliliter)\n",
    "    elif molal_conc == 3:\n",
    "        print(f'--Data for {molal_conc} m concentration--')\n",
    "        n_part = 188\n",
    "        nacl_dens=1.10579*(grams/milliliter)\n",
    "\n",
    "    M = n_part / (V_mem * AVOGADRO_CONSTANT_NA)\n",
    "    M = M.in_units_of(mole / litre)\n",
    "    print(M)\n",
    "\n",
    "\n",
    "    \n",
    "## calculation of osmotic values\n",
    "\n",
    "    def osmotic_values(mean_force_wall, molarity=M, vant_hoff:int=2, T=300*kelvin, cross_sectional_area:Quantity=(wall1*wall2)):\n",
    "        osm_press=mean_force_wall/cross_sectional_area\n",
    "        osm_bar = osm_press.in_units_of(bar / mole)\n",
    "        osm_bar = osm_bar/AVOGADRO_CONSTANT_NA\n",
    "        print(f\"Osmotic Pressure Observed:\", osm_bar)\n",
    "        osm_press_ideal=vant_hoff*molarity*R*T\n",
    "        osm_press_ideal=osm_press_ideal.in_units_of(bar)\n",
    "        print(f\"Osmotic Pressure Ideal:\", osm_press_ideal)\n",
    "        osm_coeff=osm_bar/osm_press_ideal\n",
    "        print(f\"Osmotic Coefficient:\", osm_coeff)\n",
    "        op_error=(abs(osm_bar-osm_press_ideal)/osm_press_ideal)*100\n",
    "        print(f\"Osmotic Pressure Error:\", op_error)\n",
    "        return osm_bar,osm_coeff\n",
    "    \n",
    "    def osmotic_values_noprint(mean_force_wall, molarity=M, vant_hoff:int=2, T=300*kelvin, cross_sectional_area:Quantity=(wall1*wall2)):\n",
    "        osm_press=mean_force_wall/cross_sectional_area\n",
    "        osm_bar = osm_press.in_units_of(bar / mole)\n",
    "        osm_bar = osm_bar/AVOGADRO_CONSTANT_NA\n",
    "        osm_press_ideal=vant_hoff*molarity*R*T\n",
    "        osm_press_ideal=osm_press_ideal.in_units_of(bar)\n",
    "        osm_coeff=osm_bar/osm_press_ideal\n",
    "        op_error=(abs(osm_bar-osm_press_ideal)/osm_press_ideal)*100\n",
    "        return osm_bar,osm_coeff\n",
    "\n",
    "\n",
    "\n",
    "## calculation of mean force\n",
    "    \n",
    "    def calculate_net_force(z_values : np.ndarray[float], zwall : float, k : float) -> float:\n",
    "        return k * abs(z_values - zwall).sum()\n",
    "\n",
    "    k_nm = 4184 * kilojoule_per_mole / nanometer**2\n",
    "    k = k_nm.in_units_of(kilojoule_per_mole / angstrom**2)\n",
    "\n",
    "    walls_z_pos = np.array([48, 96]) * angstrom\n",
    "    forces_at_ts = {\n",
    "        48 : [],\n",
    "        96 : []\n",
    "    }\n",
    "\n",
    "    for _ in u.trajectory:\n",
    "        ions_z = ions.positions[:,2]*angstrom\n",
    "        force_48 = calculate_net_force(\n",
    "            z_values=ions_z[ions_z < wall1],\n",
    "            zwall=wall1,\n",
    "            k=k\n",
    "        )\n",
    "        forces_at_ts[48].append(force_48)\n",
    "\n",
    "        force_96 = calculate_net_force(\n",
    "            z_values=ions_z[ions_z > wall2],\n",
    "            zwall=wall2,\n",
    "            k=k\n",
    "        )\n",
    "        forces_at_ts[96].append(force_96)\n",
    "\n",
    "    mean_forces = {\n",
    "        abs_wall_z : sum(force_list, start=0*(kilojoule_per_mole / angstrom)) / len(u.trajectory)\n",
    "            for abs_wall_z, force_list in forces_at_ts.items()\n",
    "    }\n",
    "\n",
    "    print('mean forces =', mean_forces)\n",
    "\n",
    "\n",
    "## calling calculation of osmotic values\n",
    "    \n",
    "    for wall_z_val, mF in mean_forces.items():\n",
    "        print(wall_z_val)\n",
    "        o = osmotic_values(mF, molarity=M, cross_sectional_area=A_box)\n",
    "\n",
    "\n",
    "    # print(\"Average between 2 walls: \")\n",
    "    # av_mF=(mean_forces[48]+mean_forces[96])/2\n",
    "    # o = osmotic_values(av_mF, molarity=M, cross_sectional_area=A_box)\n",
    "\n",
    "## number of ions per z coordinate (both observed through the system and outside the walls)\n",
    "    ions_at_48=[]\n",
    "    ions_at_96=[]\n",
    "    zpositions=[]\n",
    "\n",
    "    for _ in u.trajectory:\n",
    "        ions_z = ions.positions[:,2]*angstrom\n",
    "        zpositions.append(ions_z)\n",
    "        z_values48=ions_z[ions_z < wall1]\n",
    "        z_values96=ions_z[ions_z > wall2]\n",
    "        ions_at_48.append(z_values48)\n",
    "        ions_at_96.append(z_values96)\n",
    "\n",
    "    # plt.hist(ions_at_48,bins='auto',edgecolor='blue')\n",
    "    # plt.xlabel('z coordinates (A)')\n",
    "    # plt.ylabel('Number of Ions')\n",
    "    # plt.title('Number of ions outside of wall at 4.8 nm')\n",
    "    # plt.axis([47, 48, 0, 2.5])\n",
    "    # # Display the plot\n",
    "    # plt.grid(True)\n",
    "    # plt.show()\n",
    "\n",
    "    # plt.hist(ions_at_96,bins='auto',edgecolor='red')\n",
    "    # plt.xlabel('z coordinates (A)')\n",
    "    # plt.ylabel('Number of Ions')\n",
    "    # plt.title('Number of ions outside of wall at 9.6 nm')\n",
    "    # plt.axis([96, 97, 0, 2.5])\n",
    "    # plt.grid(True)\n",
    "    # plt.show()\n",
    "\n",
    "    # plt.hist(zpositions,bins='auto',edgecolor='green')\n",
    "    # plt.xlabel('z coordinates (A)')\n",
    "    # plt.ylabel('Number of Ions')\n",
    "    # plt.title('Number of ions per z coordinate')\n",
    "    # plt.grid(True)\n",
    "    # plt.show()\n",
    "\n",
    "## plotting force vs time\n",
    "\n",
    "    list48=forces_at_ts[48]\n",
    "    list96=forces_at_ts[96]\n",
    "    f48=[]\n",
    "    f96=[]\n",
    "    time=[]\n",
    "    for i,ts in enumerate(u.trajectory):\n",
    "        time.append(u.trajectory.time)\n",
    "        val48=list48[i]\n",
    "        val96=list96[i]\n",
    "        f48.append(val48.item())\n",
    "        f96.append(val96.item())\n",
    "\n",
    "    # plt.plot(time,f96, color='r', label='9.6 nm')\n",
    "    # plt.plot(time,f48, color='g', label='4.8 nm')\n",
    "    # plt.ylabel(\"Forces\")\n",
    "    # plt.xlabel(\"Time\")\n",
    "    # plt.title(\"Forces vs time\")\n",
    "    # plt.legend()\n",
    "    # plt.show()\n",
    "\n",
    "\n",
    "    print(\"----------------------------------------------------------------\")\n",
    "\n",
    "## calculation of autocorrelation function and plot of uncorrelated samples\n",
    "    \n",
    "    fts48=np.array(f48)\n",
    "    fts96=np.array(f96)\n",
    "\n",
    "    nskip=100\n",
    "    t0, g, Neff_max = timeseries.detect_equilibration(fts48,nskip=nskip) # compute indices of uncorrelated timeseries\n",
    "    fts48_equil = fts48[t0:]\n",
    "    indices48 = timeseries.subsample_correlated_data(fts48_equil, g=g)\n",
    "    fts48_s = fts48_equil[indices48]\n",
    "\n",
    "    indt48=[]\n",
    "    for i in indices48:\n",
    "        indt48.append(time[i])\n",
    "\n",
    "    print(\"---Wall 4.8 nm---\")\n",
    "    print('t0 =', t0,' g =',g,' Neff_max =', Neff_max)\n",
    "    #mean of full time series\n",
    "    meanf48=np.mean(f48)\n",
    "    meanf48=meanf48*kilojoule_per_mole/angstrom\n",
    "    #stdev of the full timeseries devided by sqrt of the number of effective samples -1\n",
    "    sterrf48=np.std(f48)/np.sqrt(len(indt48)-1)\n",
    "    # squared_diff48 = (f48*kilojoule_per_mole/angstrom - meanf48) ** 2\n",
    "    varf48 = sterrf48**2\n",
    "\n",
    "    print(f\"Mean = {meanf48}, std error = {sterrf48}, variance = {varf48}\",'\\n')\n",
    "\n",
    "    # plt.plot(time,f48)\n",
    "    # plt.scatter(indt48, fts48_s, color='m', marker='o')\n",
    "    # plt.ylabel(\"Forces\")\n",
    "    # plt.xlabel(\"Time\")\n",
    "    # plt.title(\"Forces at 4.8 nm Wall\")\n",
    "    # plt.show()\n",
    "\n",
    "    t0, g, Neff_max = timeseries.detect_equilibration(fts96,nskip=nskip) # compute indices of uncorrelated timeseries\n",
    "    fts96_equil = fts96[t0:]\n",
    "    indices96 = timeseries.subsample_correlated_data(fts96_equil, g=g)\n",
    "    fts96_s = fts96_equil[indices96]\n",
    "\n",
    "    indt96=[]\n",
    "    for i in indices96:\n",
    "        indt96.append(time[i])\n",
    "\n",
    "\n",
    "    print(\"---Wall 9.6 nm---\")\n",
    "    #statistical values of t0 (time after equil), g (statistical efficiency/correlation time of equil data), Neff (# of eff samples)\n",
    "    print('t0 =', t0,' g =',g,' Neff_max =', Neff_max)\n",
    "    #mean of full time series\n",
    "    meanf96=np.mean(f96)\n",
    "    meanf96=meanf96*mF.unit\n",
    "    #stdev of the full timeseries devided by sqrt of the number of effective samples -1\n",
    "    sterrf96=np.std(f96)/np.sqrt(len(indt96)-1)\n",
    "    # squared_diff96 = (f96*kilojoule_per_mole/angstrom - meanf96) ** 2\n",
    "    varf96 = sterrf96**2\n",
    "    print(f\"Mean = {meanf96}, std error = {sterrf96}, variance = {varf96}\",'\\n')\n",
    "\n",
    "    # plt.plot(time, f96, c='g')\n",
    "    # plt.scatter(indt96, fts96_s, color='m', marker='o')\n",
    "    # plt.ylabel(\"Forces\")\n",
    "    # plt.xlabel(\"Time\")\n",
    "    # plt.title(\"Forces at 9.6 nm Wall\")\n",
    "    # plt.show()\n",
    "\n",
    "    def comb_SEM(sem1,sem2,n1,n2):\n",
    "        \"\"\"\n",
    "        Calculate the standard error of the mean for combined data.\n",
    "\n",
    "        Args:\n",
    "        sem1 (float): Standard error of the mean for the first set of data.\n",
    "        sem2 (float): Standard error of the mean for the second set of data.\n",
    "        n1 (int): Sample size of the first set of data.\n",
    "        n2 (int): Sample size of the second set of data.\n",
    "\n",
    "        Returns:\n",
    "        float: The standard error of the mean for combined data.\n",
    "        \"\"\"\n",
    "        combined_sem = np.sqrt((sem1**2 * (n1 - 1) + sem2**2 * (n2 - 1)) / (n1 + n2 - 2))\n",
    "        return combined_sem\n",
    "    \n",
    "    print(\"---Statistical Analysis results---\")\n",
    "    #average between two walls\n",
    "    statmeanF=(meanf48+meanf96)/2\n",
    "    errvar=np.sqrt((varf48+varf96)/2)\n",
    "    comberror=comb_SEM(sterrf48,sterrf96,len(indt48),len(indt96))\n",
    "    print(f'Mean force between two walls: {statmeanF}')\n",
    "    print(f'Mean std error between two walls: +/-{comberror} or {errvar}')\n",
    "    \n",
    "    errvar=errvar*(kilojoule_per_mole/angstrom)\n",
    "    print(\"------------------------------------------------------------------------\")\n",
    "\n",
    "    print(f\"FINAL STATISTICAL RESULTS FOR {molal_conc} MOLAL:\")\n",
    "    \n",
    "    print(\"------------------------------------------------------------------------\")   \n",
    "    #calculation of osmotic values from statistical mean and std error\n",
    "    osmval = osmotic_values_noprint(statmeanF, molarity=M, cross_sectional_area=A_box) \n",
    "    osmerr = osmotic_values_noprint(errvar, molarity=M, cross_sectional_area=A_box)\n",
    "\n",
    "    print(f\"Osmotic Pressure = {osmval[0]} +/- {osmerr[0]} \\nOsmotic Coefficient = {osmval[1]} +/- {osmerr[1]}\")\n",
    "\n",
    "    return osmval[0],osmerr[0],M"
   ]
  },
  {
   "cell_type": "code",
   "execution_count": 6,
   "metadata": {},
   "outputs": [
    {
     "name": "stdout",
     "output_type": "stream",
     "text": [
      "--Data for 1 m concentration--\n",
      "0.9759751100106702 mol/L\n",
      "mean forces = {48: Quantity(value=6.67092693195477, unit=kilojoule/(angstrom*mole)), 96: Quantity(value=6.849657359242362, unit=kilojoule/(angstrom*mole))}\n",
      "48\n",
      "Osmotic Pressure Observed: 48.07871000335531 bar\n",
      "Osmotic Pressure Ideal: 48.688251410590276 bar\n",
      "Osmotic Coefficient: 0.987480729137412\n",
      "Osmotic Pressure Error: 1.2519270862588046\n",
      "96\n",
      "Osmotic Pressure Observed: 49.36685608410063 bar\n",
      "Osmotic Pressure Ideal: 48.688251410590276 bar\n",
      "Osmotic Coefficient: 1.0139377499468538\n",
      "Osmotic Pressure Error: 1.3937749946853755\n",
      "----------------------------------------------------------------\n",
      "---Wall 4.8 nm---\n",
      "t0 = 0  g = 1.2604113  Neff_max = 794.97864\n",
      "Mean = 6.670926931954765 kJ/(A mol), std error = 0.33895818033590214, variance = 0.11489264801662595 \n",
      "\n",
      "---Wall 9.6 nm---\n",
      "t0 = 0  g = 3.180632  Neff_max = 315.0317\n",
      "Mean = 6.849657359242321 kJ/(A mol), std error = 0.5338343057367497, variance = 0.2849790659814376 \n",
      "\n",
      "---Statistical Analysis results---\n",
      "Mean force between two walls: 6.760292145598543 kJ/(A mol)\n",
      "Mean std error between two walls: +/-0.4039029288912099 or 0.44714187569386943\n",
      "------------------------------------------------------------------------\n",
      "FINAL STATISTICAL RESULTS FOR 1 MOLAL:\n",
      "------------------------------------------------------------------------\n",
      "Osmotic Pressure = 48.7227830437278 bar +/- 3.2226412897528727 bar \n",
      "Osmotic Coefficient = 1.0007092395421293 +/- 0.06618930021898281\n"
     ]
    }
   ],
   "source": [
    "m1=SPW_analysis(u,ions,1)\n",
    "m1op=m1[0]\n",
    "m1err=m1[1]\n",
    "xc1=m1[2]\n"
   ]
  },
  {
   "cell_type": "code",
   "execution_count": 7,
   "metadata": {},
   "outputs": [
    {
     "name": "stdout",
     "output_type": "stream",
     "text": [
      "--Data for 2 m concentration--\n",
      "1.9219202166363967 mol/L\n",
      "mean forces = {48: Quantity(value=15.491499838357491, unit=kilojoule/(angstrom*mole)), 96: Quantity(value=14.176210350318621, unit=kilojoule/(angstrom*mole))}\n",
      "48\n",
      "Osmotic Pressure Observed: 111.65035022009522 bar\n",
      "Osmotic Pressure Ideal: 95.87840277777778 bar\n",
      "Osmotic Coefficient: 1.1644994804395405\n",
      "Osmotic Pressure Error: 16.44994804395405\n",
      "96\n",
      "Osmotic Pressure Observed: 102.17079475337808 bar\n",
      "Osmotic Pressure Ideal: 95.87840277777778 bar\n",
      "Osmotic Coefficient: 1.0656288777586804\n",
      "Osmotic Pressure Error: 6.5628877758680355\n",
      "----------------------------------------------------------------\n",
      "---Wall 4.8 nm---\n",
      "t0 = 0  g = 1.2812777  Neff_max = 782.0319\n",
      "Mean = 15.491499838357445 kJ/(A mol), std error = 0.4993325000135918, variance = 0.24933294556982366 \n",
      "\n",
      "---Wall 9.6 nm---\n",
      "t0 = 0  g = 1.8830178  Neff_max = 532.1246\n",
      "Mean = 14.176210350318629 kJ/(A mol), std error = 0.6179696348009164, variance = 0.38188646953597793 \n",
      "\n",
      "---Statistical Analysis results---\n",
      "Mean force between two walls: 14.833855094338038 kJ/(A mol)\n",
      "Mean std error between two walls: +/-0.550474043591742 or 0.5617915160919581\n",
      "------------------------------------------------------------------------\n",
      "FINAL STATISTICAL RESULTS FOR 2 MOLAL:\n",
      "------------------------------------------------------------------------\n",
      "Osmotic Pressure = 106.91057248673653 bar +/- 4.0489442711697965 bar \n",
      "Osmotic Coefficient = 1.1150641790991092 +/- 0.04222999292712708\n"
     ]
    }
   ],
   "source": [
    "m2=SPW_analysis(u2,ions2,2)\n",
    "m2op=m2[0]\n",
    "m2err=m2[1]\n",
    "xc2=m2[2]\n"
   ]
  },
  {
   "cell_type": "code",
   "execution_count": 9,
   "metadata": {},
   "outputs": [],
   "source": [
    "# m2l=SPW_analysis(u2l,ions2l,2)\n",
    "# m2opl=m2l[0]\n",
    "# m2errl=m2l[1]\n",
    "# xc2l=m2l[2]"
   ]
  },
  {
   "cell_type": "code",
   "execution_count": 10,
   "metadata": {},
   "outputs": [
    {
     "name": "stdout",
     "output_type": "stream",
     "text": [
      "--Data for 3 m concentration--\n",
      "2.8228203181847076 mol/L\n",
      "mean forces = {48: Quantity(value=23.931308002300486, unit=kilojoule/(angstrom*mole)), 96: Quantity(value=22.84874471658711, unit=kilojoule/(angstrom*mole))}\n",
      "48\n",
      "Osmotic Pressure Observed: 172.4777424756513 bar\n",
      "Osmotic Pressure Ideal: 140.8214040798611 bar\n",
      "Osmotic Coefficient: 1.2247977756125594\n",
      "Osmotic Pressure Error: 22.479777561255947\n",
      "96\n",
      "Osmotic Pressure Observed: 164.67549148339805 bar\n",
      "Osmotic Pressure Ideal: 140.8214040798611 bar\n",
      "Osmotic Coefficient: 1.1693924837591383\n",
      "Osmotic Pressure Error: 16.939248375913838\n",
      "----------------------------------------------------------------\n",
      "---Wall 4.8 nm---\n",
      "t0 = 0  g = 1.4295683  Neff_max = 700.9109\n",
      "Mean = 23.931308002300433 kJ/(A mol), std error = 0.6543547584658173, variance = 0.42818014992685804 \n",
      "\n",
      "---Wall 9.6 nm---\n",
      "t0 = 0  g = 2.3470168  Neff_max = 426.92493\n",
      "Mean = 22.848744716587124 kJ/(A mol), std error = 0.8329214815095382, variance = 0.6937581943600439 \n",
      "\n",
      "---Statistical Analysis results---\n",
      "Mean force between two walls: 23.39002635944378 kJ/(A mol)\n",
      "Mean std error between two walls: +/-0.7271490237580083 or 0.7489787527984028\n",
      "------------------------------------------------------------------------\n",
      "FINAL STATISTICAL RESULTS FOR 3 MOLAL:\n",
      "------------------------------------------------------------------------\n",
      "Osmotic Pressure = 168.57661697952454 bar +/- 5.3980402756288655 bar \n",
      "Osmotic Coefficient = 1.197095129685848 +/- 0.03833252701107558\n"
     ]
    }
   ],
   "source": [
    "m3=SPW_analysis(u3,ions3,3)\n",
    "m3op=m3[0]\n",
    "m3err=m3[1]\n",
    "xc3=m3[2]"
   ]
  },
  {
   "cell_type": "code",
   "execution_count": 12,
   "metadata": {},
   "outputs": [],
   "source": [
    "# m3l=SPW_analysis(u3l,ions3l,3)\n",
    "# m3opl=m3l[0]\n",
    "# m3errl=m3l[1]\n",
    "# xc3l=m3l[2]"
   ]
  },
  {
   "cell_type": "code",
   "execution_count": 15,
   "metadata": {},
   "outputs": [
    {
     "data": {
      "image/png": "[encoded data removed]",
      "text/plain": [
       "<Figure size 640x480 with 1 Axes>"
      ]
     },
     "metadata": {},
     "output_type": "display_data"
    }
   ],
   "source": [
    "yOP=[m1op._value,m2op._value,m3op._value]\n",
    "yerrs=[m1err._value,m2err._value,m3err._value]\n",
    "yroux=[49.25814435639172,105.63795075630847,160.23739597931342]\n",
    "yexp=[expOP_1m._value,expOP_2m._value,expOP_3m._value]\n",
    "xconc=[xc1._value,xc2._value,xc3._value]\n",
    "plt.errorbar(xconc,yOP, yerr=yerrs, fmt='o', linestyle='-',color='forestgreen', capsize=5, label='J&Ch')\n",
    "plt.plot(xconc,yroux, marker='o', linestyle='-',color='blue', label='Luo & Roux 2010')\n",
    "plt.plot(xconc,yexp, marker='o', linestyle='-',color='red', label='Experimental (Hamer & Wu)')\n",
    "plt.xlabel(\"Concentration (M)\")\n",
    "plt.ylabel(\"Osmotic Pressure (bar)\")\n",
    "plt.title('Osmotic Pressure for Increasing Concentration')\n",
    "plt.legend()\n",
    "plt.show()"
   ]
  },
  {
   "cell_type": "code",
   "execution_count": 14,
   "metadata": {},
   "outputs": [
    {
     "ename": "NameError",
     "evalue": "name 'm2opl' is not defined",
     "output_type": "error",
     "traceback": [
      "\u001b[0;31m---------------------------------------------------------------------------\u001b[0m",
      "\u001b[0;31mNameError\u001b[0m                                 Traceback (most recent call last)",
      "Cell \u001b[0;32mIn[14], line 1\u001b[0m\n\u001b[0;32m----> 1\u001b[0m yOP\u001b[38;5;241m=\u001b[39m[m1op\u001b[38;5;241m.\u001b[39m_value,\u001b[43mm2opl\u001b[49m\u001b[38;5;241m.\u001b[39m_value,m3opl\u001b[38;5;241m.\u001b[39m_value]\n\u001b[1;32m      2\u001b[0m yerrs\u001b[38;5;241m=\u001b[39m[m1err\u001b[38;5;241m.\u001b[39m_value,m2errl\u001b[38;5;241m.\u001b[39m_value,m3errl\u001b[38;5;241m.\u001b[39m_value]\n\u001b[1;32m      3\u001b[0m yroux\u001b[38;5;241m=\u001b[39m[\u001b[38;5;241m49.25814435639172\u001b[39m,\u001b[38;5;241m105.63795075630847\u001b[39m,\u001b[38;5;241m160.23739597931342\u001b[39m]\n",
      "\u001b[0;31mNameError\u001b[0m: name 'm2opl' is not defined"
     ]
    }
   ],
   "source": [
    "# yOP=[m1op._value,m2opl._value,m3opl._value]\n",
    "# yerrs=[m1err._value,m2errl._value,m3errl._value]\n",
    "# yroux=[49.25814435639172,105.63795075630847,160.23739597931342]\n",
    "# xconc=[xc1._value,xc2._value,xc3._value]\n",
    "# yexp=[expOP_1m._value,expOP_2m._value,expOP_3m._value]\n",
    "# plt.errorbar(xconc,yOP, yerr=yerrs, fmt='o', linestyle='-',color='purple', capsize=5, label='Calculated')\n",
    "# plt.plot(xconc,yroux, marker='o', linestyle='-',color='blue', label='Luo & Roux 2010')\n",
    "# plt.plot(xconc,yexp, marker='o', linestyle='-',color='red', label='Experimental (Hamer & Wu)')\n",
    "# plt.xlabel(\"Concentration (M)\")\n",
    "# plt.ylabel(\"Osmotic Pressure (bar)\")\n",
    "# plt.title('Osmotic Pressure for Increasing Concentration (longer)')\n",
    "# plt.legend()\n",
    "# plt.show()"
   ]
  },
  {
   "cell_type": "markdown",
   "metadata": {},
   "source": [
    "### Density profiles using GROMACS"
   ]
  },
  {
   "cell_type": "code",
   "execution_count": 17,
   "metadata": {},
   "outputs": [
    {
     "data": {
      "image/png": "[encoded data removed]",
      "text/plain": [
       "<Figure size 640x480 with 1 Axes>"
      ]
     },
     "metadata": {},
     "output_type": "display_data"
    }
   ],
   "source": [
    "x,y = np.loadtxt(\"density_original.xvg\",comments=[\"@\", \"#\"],unpack=True)\n",
    "y=(y/nanometer**3)/(AVOGADRO_CONSTANT_NA)\n",
    "y=y.in_units_of(mole/litre)/2\n",
    "x1,y1 = np.loadtxt(\"dens_2m.xvg\",comments=[\"@\", \"#\"],unpack=True)\n",
    "y1=(y1/nanometer**3)/(AVOGADRO_CONSTANT_NA)\n",
    "y1=y1.in_units_of(mole/litre)/2\n",
    "x2,y2 = np.loadtxt(\"dens_3m.xvg\",comments=[\"@\", \"#\"],unpack=True)\n",
    "y2=(y2/nanometer**3)/(AVOGADRO_CONSTANT_NA)\n",
    "y2=y2.in_units_of(mole/litre)/2\n",
    "plt.axvline(x = 4.8, color = 'gray', label = 'walls', linestyle = 'dashed')\n",
    "plt.axvline(x = 9.6, color = 'gray', linestyle = 'dashed')\n",
    "plt.axhline(y = 0.98, color = 'lightgray', linestyle = 'dashed')\n",
    "plt.axhline(y = 1.92, color = 'lightgray', linestyle = 'dashed')\n",
    "plt.axhline(y = 2.83, color = 'lightgray', linestyle = 'dashed')\n",
    "# plt.plot(zi_values, potential_energy_values, label=r'$V_{\\mathrm{fb}}(z_i)$')\n",
    "plt.plot(x,y, c='lime', label='1m')\n",
    "plt.plot(x1,y1, c='limegreen', label='2m')\n",
    "plt.plot(x2,y2, c='darkgreen', label='3m')\n",
    "plt.xlabel(\"Z coordinate (nm)\")\n",
    "plt.ylabel(\"Molal Concentration (mol/L)\")\n",
    "plt.xticks(np.arange(0, 14.4, 1.0))\n",
    "#plt.yticks(np.arange(0.0, 1.0, 0.1))\n",
    "plt.title('Increasing Concentration - J&Ch')\n",
    "plt.legend(loc='upper right')\n",
    "plt.show()"
   ]
  },
  {
   "cell_type": "code",
   "execution_count": null,
   "metadata": {},
   "outputs": [
    {
     "name": "stdout",
     "output_type": "stream",
     "text": [
      "[0.         0.         0.         0.         0.         0.\n",
      " 0.         0.         0.         0.         0.         0.\n",
      " 0.         0.         0.         0.         0.         0.\n",
      " 0.         0.         0.         0.         0.         0.16109969\n",
      " 1.01844182 0.98586204 1.00853671 0.99467951 1.01195742 0.98621906\n",
      " 0.98766373 0.98478269 0.95921869 0.97236186 0.92033717 0.95291695\n",
      " 0.96929817 0.95795669 0.95903604 0.97182219 0.95795669 0.95958401\n",
      " 0.96299642 0.94787721 0.91944048 0.91925782 0.91583711 0.89297979\n",
      " 0.14525981 0.         0.         0.         0.         0.\n",
      " 0.         0.         0.         0.         0.         0.\n",
      " 0.         0.         0.         0.         0.         0.\n",
      " 0.         0.         0.         0.         0.         0.        ] mol/L\n"
     ]
    },
    {
     "data": {
      "image/png": "[encoded data removed]",
      "text/plain": [
       "<Figure size 640x480 with 1 Axes>"
      ]
     },
     "metadata": {},
     "output_type": "display_data"
    }
   ],
   "source": [
    "# x,y = np.loadtxt(\"density_original.xvg\",comments=[\"@\", \"#\"],unpack=True)\n",
    "# y=(y/nanometer**3)/(AVOGADRO_CONSTANT_NA)\n",
    "# y=y.in_units_of(mole/litre)/2\n",
    "# print(y)\n",
    "# x1,y1 = np.loadtxt(\"dens_2ml.xvg\",comments=[\"@\", \"#\"],unpack=True)\n",
    "# y1=(y1/nanometer**3)/(AVOGADRO_CONSTANT_NA)\n",
    "# y1=y1.in_units_of(mole/litre)/2\n",
    "# x2,y2 = np.loadtxt(\"dens_3ml.xvg\",comments=[\"@\", \"#\"],unpack=True)\n",
    "# y2=(y2/nanometer**3)/(AVOGADRO_CONSTANT_NA)\n",
    "# y2=y2.in_units_of(mole/litre)/2\n",
    "# plt.axvline(x = 4.8, color = 'gray', label = 'walls', linestyle = 'dashed')\n",
    "# plt.axvline(x = 9.6, color = 'gray', linestyle = 'dashed')\n",
    "# plt.axhline(y = 0.98, color = 'lightgray', linestyle = 'dashed')\n",
    "# plt.axhline(y = 1.92, color = 'lightgray', linestyle = 'dashed')\n",
    "# plt.axhline(y = 2.83, color = 'lightgray', linestyle = 'dashed')\n",
    "# # plt.plot(zi_values, potential_energy_values, label=r'$V_{\\mathrm{fb}}(z_i)$')\n",
    "# plt.plot(x,y, c='mediumpurple', label='1m')\n",
    "# plt.plot(x1,y1, c='blueviolet', label='2m')\n",
    "# plt.plot(x2,y2, c='indigo', label='3m')\n",
    "# plt.xlabel(\"Z coordinate (nm)\")\n",
    "# plt.ylabel(\"Molal Concentration (mol/L)\")\n",
    "# plt.xticks(np.arange(0, 14.4, 1.0))\n",
    "# #plt.yticks(np.arange(0.0, 1.0, 0.1))\n",
    "# plt.title('Increasing Concentration (longer) - CHARMM27')\n",
    "# plt.legend(loc='upper right')\n",
    "# plt.show()"
   ]
  },
  {
   "cell_type": "markdown",
   "metadata": {},
   "source": [
    "## Density profiles using MDanalysis"
   ]
  },
  {
   "cell_type": "code",
   "execution_count": null,
   "metadata": {},
   "outputs": [],
   "source": [
    "def density_profile(universe, atom_group, bin_width=0.5, dim='z', method='atom', frameby=1):\n",
    "    '''Calculate the partial density across the box'''\n",
    "\n",
    "    if isinstance(atom_group, str): # if provided selection language, make AtomGroup\n",
    "        ag = universe.select_atoms(atom_group)\n",
    "    else: # else assume input is AtomGroup\n",
    "        ag = atom_group\n",
    "\n",
    "    print(f'\\nCalculating the partial density profile of {atom_group} in the {dim} dimension...')\n",
    "\n",
    "    dims = {'x': 0, 'y': 1, 'z': 2}\n",
    "    d = dims[dim]\n",
    "    box = universe.dimensions[d]\n",
    "\n",
    "    n_bins = int(box / bin_width)\n",
    "    bins = np.linspace(0, box, num=n_bins)\n",
    "\n",
    "    counts = np.zeros(n_bins-1)\n",
    "        \n",
    "    if len(universe.trajectory) == 0:\n",
    "        for b in tqdm(range(n_bins-1)):\n",
    "            lb = bins[b]\n",
    "            ub = bins[b+1]\n",
    "            bin_atoms = universe.select_atoms(f'prop {dim} > {lb} and prop {dim} < {ub} and group ag', ag=ag)\n",
    "            if method in ['atom', 'atoms', 'all']:\n",
    "                counts[b] += len(bin_atoms)\n",
    "            elif method in ['molecule', 'mol', 'residue', 'res']: \n",
    "                counts[b] += bin_atoms.n_residues\n",
    "            elif method in ['mass', 'mass density']:\n",
    "                box_dims = [box[i] for i in range(3) if i != d]\n",
    "                dV = box_dims[0] * box_dims[1] * (ub-lb) * (10**-8)**3\n",
    "                mass = bin_atoms.masses.sum() / 6.022 / 10**23\n",
    "                counts[b] += mass / dV\n",
    "    else:\n",
    "        for ts in tqdm(universe.trajectory[::frameby]):\n",
    "            for b in range(n_bins-1):\n",
    "                lb = bins[b]\n",
    "                ub = bins[b+1]\n",
    "                bin_atoms = universe.select_atoms(f'prop {dim} > {lb} and prop {dim} < {ub} and group ag', ag=ag)\n",
    "\n",
    "                if method in ['atom', 'atoms', 'all', 'number']:\n",
    "                    counts[b] += len(bin_atoms)                 \n",
    "                elif method in ['molecule', 'mol', 'residue', 'res']: \n",
    "                    counts[b] += bin_atoms.n_residues\n",
    "                elif method in ['mass', 'mass density']:\n",
    "                    box_dims = [box[i] for i in range(3) if i != d]\n",
    "                    dV = box_dims[0] * box_dims[1] * (ub-lb) * (10**-8)**3\n",
    "                    mass = bin_atoms.masses.sum() / 6.022 / 10**23\n",
    "                    counts[b] += mass / dV\n",
    "\n",
    "        counts = counts / len(universe.trajectory[::frameby])\n",
    "\n",
    "    return bins, counts"
   ]
  },
  {
   "cell_type": "code",
   "execution_count": null,
   "metadata": {},
   "outputs": [
    {
     "ename": "NameError",
     "evalue": "name 'u1' is not defined",
     "output_type": "error",
     "traceback": [
      "\u001b[0;31m---------------------------------------------------------------------------\u001b[0m",
      "\u001b[0;31mNameError\u001b[0m                                 Traceback (most recent call last)",
      "Cell \u001b[0;32mIn[15], line 1\u001b[0m\n\u001b[0;32m----> 1\u001b[0m nbins1_old,ncounts1_old\u001b[38;5;241m=\u001b[39mdensity_profile(\u001b[43mu1\u001b[49m,ions,\u001b[38;5;241m2\u001b[39m)\n",
      "\u001b[0;31mNameError\u001b[0m: name 'u1' is not defined"
     ]
    }
   ],
   "source": [
    "nbins1_old,ncounts1_old=density_profile(u1,ions,2)"
   ]
  },
  {
   "cell_type": "code",
   "execution_count": null,
   "metadata": {},
   "outputs": [],
   "source": [
    "def density_fprofile(universe, atom_group, bin_width=0.5, dim='z', method='atom', frameby=1):\n",
    "    '''Calculate the partial density across the box'''\n",
    "\n",
    "    if isinstance(atom_group, str): # if provided selection language, make AtomGroup\n",
    "        ag = universe.select_atoms(atom_group)\n",
    "    else: # else assume input is AtomGroup\n",
    "        ag = atom_group\n",
    "\n",
    "    print(f'\\nCalculating the partial density profile of {atom_group} in the {dim} dimension...')\n",
    "\n",
    "    dims = {'x': 0, 'y': 1, 'z': 2}\n",
    "    d = dims[dim]\n",
    "    box = universe.dimensions[d]\n",
    "\n",
    "    n_bins = int(box / bin_width)\n",
    "    print(box,n_bins,bin_width)\n",
    "    bins = np.linspace(0, box, num=n_bins)\n",
    "\n",
    "    bin_atoms = universe.select_atoms(f'group ag', ag=ag)\n",
    "    ion_indices = bin_atoms.indices\n",
    "    nframes = len(universe.trajectory[::frameby])\n",
    "    thisto = np.zeros([n_bins-1,nframes])\n",
    "    ztraj = np.zeros([len(bin_atoms),nframes])    \n",
    "    for i,ts in enumerate(tqdm(universe.trajectory[::frameby])):\n",
    "        ztraj[:,i]= ts.positions[:,d][ion_indices]\n",
    "        # calculate the histogram at each time point\n",
    "        counts = np.histogram(ztraj[:,i],bins=bins)\n",
    "        thisto[:,i] = counts[0]\n",
    "    # we now have ztraj, get overall histogram\n",
    "    counts = np.histogram(ztraj,bins=bins)\n",
    "    return bins, counts[0], thisto"
   ]
  },
  {
   "cell_type": "code",
   "execution_count": null,
   "metadata": {},
   "outputs": [],
   "source": [
    "newbins1,newcounts1,thisto1 = density_fprofile(u1,ions,bin_width=2.0,dim='z')"
   ]
  },
  {
   "cell_type": "markdown",
   "metadata": {},
   "source": [
    "This new way of doing the counts is the same (it's the total counts, not counts per frame)"
   ]
  },
  {
   "cell_type": "code",
   "execution_count": null,
   "metadata": {},
   "outputs": [],
   "source": [
    "newcounts1-ncounts1_old*1001"
   ]
  },
  {
   "cell_type": "markdown",
   "metadata": {},
   "source": [
    "Now find the statistical inefficiencies of the histogram time series."
   ]
  },
  {
   "cell_type": "code",
   "execution_count": null,
   "metadata": {},
   "outputs": [],
   "source": [
    "ncorrs = len(thisto1[:,0])\n",
    "corrs = np.zeros(ncorrs)\n",
    "for i in range(ncorrs):\n",
    "    tsum = np.sum(thisto1[i])\n",
    "    if tsum !=0:\n",
    "        corrs[i] = timeseries.statistical_inefficiency(thisto1[i])"
   ]
  },
  {
   "cell_type": "code",
   "execution_count": null,
   "metadata": {},
   "outputs": [],
   "source": [
    "plt.plot(corrs)\n",
    "plt.ylabel('statistical_efficiency')\n",
    "plt.xlabel('bin_index')\n",
    "plt.show()"
   ]
  },
  {
   "cell_type": "markdown",
   "metadata": {},
   "source": [
    "Now get all three replicate ncounts"
   ]
  },
  {
   "cell_type": "code",
   "execution_count": null,
   "metadata": {},
   "outputs": [],
   "source": [
    "nbins1,ncounts1,thisto1=density_fprofile(u1,ions1,2)\n",
    "nbins2,ncounts2,thisto2=density_fprofile(u2,ions2,2)\n",
    "nbins3,ncounts3,thisto3=density_fprofile(u3,ions3,2)"
   ]
  },
  {
   "cell_type": "markdown",
   "metadata": {},
   "source": [
    "### Effect of changing number of bins"
   ]
  },
  {
   "cell_type": "markdown",
   "metadata": {},
   "source": [
    "There are 130 total ions in the system. About 25 bins in the middle are occupied. There are 1001 simulation frames, so we would expect somewhere around 5200 counts in each bin.\n",
    "\n",
    "We can treat this as a multinomial problem, with p_i at each point. If each frame is uncorrelated, the expectation at each point is 1001$\\times$130$\\times p_i$ = ncounts. So we can approximate each $p_i$ as ncounts/(1001$\\times$130)."
   ]
  },
  {
   "cell_type": "code",
   "execution_count": null,
   "metadata": {},
   "outputs": [],
   "source": [
    "# https://en.wikipedia.org/wiki/Multinomial_distribution    \n",
    "# total observations\n",
    "# assume there is a multinomial distribution \n",
    "# with a probability of each bin being the observed probability \n",
    "\n",
    "nions = 130\n",
    "nframes = 1001"
   ]
  },
  {
   "cell_type": "code",
   "execution_count": null,
   "metadata": {},
   "outputs": [],
   "source": [
    "pi = ncounts1/(nions*1001) # since each ncounts is already divided by 1001"
   ]
  },
  {
   "cell_type": "code",
   "execution_count": null,
   "metadata": {},
   "outputs": [],
   "source": [
    "np.sum(pi) # these probabilities are properly normalized"
   ]
  },
  {
   "cell_type": "code",
   "execution_count": null,
   "metadata": {},
   "outputs": [],
   "source": []
  },
  {
   "cell_type": "markdown",
   "metadata": {},
   "source": [
    "The variance in the number of counts will be $(1001 \\times 130)(p_i)(1-p_i)$, so the standard deviation will be the square root of that.\n"
   ]
  },
  {
   "cell_type": "code",
   "execution_count": null,
   "metadata": {},
   "outputs": [],
   "source": [
    "stds_multinomial = np.sqrt(nframes*nions*pi*(1-pi))\n",
    "print(stds_multinomial)"
   ]
  },
  {
   "cell_type": "markdown",
   "metadata": {},
   "source": [
    "This is the standard deviation in the count number.  We should be seeing a count number of 5000 +/- 70. We are are interested in the standard deviation of the average count number, which we divide by nframes."
   ]
  },
  {
   "cell_type": "markdown",
   "metadata": {},
   "source": [
    "Note that this can be approximated for large numbers of bins by simply the square root of the number of bins.  Which turns out to be almost exactly the same!"
   ]
  },
  {
   "cell_type": "code",
   "execution_count": null,
   "metadata": {},
   "outputs": [],
   "source": [
    "stds_simpler = np.sqrt(ncounts1)\n",
    "print(stds_simpler)\n",
    "print(stds_simpler/stds_multinomial)"
   ]
  },
  {
   "cell_type": "markdown",
   "metadata": {},
   "source": [
    "However, if we look at the variation between replicates, it's larger than this simple spread."
   ]
  },
  {
   "cell_type": "code",
   "execution_count": null,
   "metadata": {},
   "outputs": [],
   "source": [
    "replicates = np.vstack([ncounts1,ncounts2,ncounts3])\n",
    "vals = np.mean(replicates,axis=0)\n",
    "errs = np.std(replicates,axis=0,ddof=1) # std\n",
    "print(vals)\n",
    "print(errs)\n",
    "# the variation in the replicates are much bigger"
   ]
  },
  {
   "cell_type": "markdown",
   "metadata": {},
   "source": [
    "One reason could be that we have fewer effective samples.  Thus, the fractional standard deviation should actually be larger by sqrt(ncorr)."
   ]
  },
  {
   "cell_type": "code",
   "execution_count": null,
   "metadata": {},
   "outputs": [],
   "source": [
    "stds_corrected = stds_multinomial*np.sqrt(corrs)"
   ]
  },
  {
   "cell_type": "code",
   "execution_count": null,
   "metadata": {},
   "outputs": [],
   "source": [
    "plt.plot(stds_corrected,label='multinomial std corrected with correlation time')\n",
    "plt.plot(errs,label='std from replicates')\n",
    "plt.ylabel('standard deviations two ways')\n",
    "plt.xlabel('bin index')\n",
    "plt.legend()\n",
    "plt.show()"
   ]
  },
  {
   "cell_type": "markdown",
   "metadata": {},
   "source": [
    "This looks more reasonable!"
   ]
  },
  {
   "cell_type": "code",
   "execution_count": null,
   "metadata": {},
   "outputs": [],
   "source": [
    "# turn it in to a function\n",
    "def stdbycount(ncounts,thisto,nions=130,nframes=1001,):\n",
    "    pi = ncounts/(nions*nframes)\n",
    "    stds_multinomial = np.sqrt(nframes*nions*pi*(1-pi))\n",
    "    ncorrs = len(thisto[:,0])\n",
    "    corrs = np.zeros(ncorrs)\n",
    "    for i in range(ncorrs):\n",
    "        tsum = np.sum(thisto[i])\n",
    "        if tsum !=0:\n",
    "            corrs[i] = timeseries.statistical_inefficiency(thisto[i])\n",
    "    return stds_multinomial*np.sqrt(corrs)"
   ]
  },
  {
   "cell_type": "code",
   "execution_count": null,
   "metadata": {},
   "outputs": [],
   "source": [
    "std1 = stdbycount(ncounts1,thisto1)\n",
    "std2 = stdbycount(ncounts2,thisto2)\n",
    "std3 = stdbycount(ncounts3,thisto3)"
   ]
  },
  {
   "cell_type": "code",
   "execution_count": null,
   "metadata": {},
   "outputs": [],
   "source": [
    "# this doesn't look so bad - they MOSTLY agree.\n",
    "plt.plot(std1,label='multinomial w/ correlation 1')\n",
    "plt.plot(std2,label='multinomial w/ correlation 2')\n",
    "plt.plot(std3,label='multinomial w/ correlation 3')\n",
    "plt.plot(errs,label='std from replicates')\n",
    "plt.ylabel('standard deviations two ways')\n",
    "plt.xlabel('bin index')\n",
    "plt.legend()\n",
    "plt.show()"
   ]
  },
  {
   "cell_type": "markdown",
   "metadata": {},
   "source": [
    "Theey generally look consistent; a bit noisy, but statistical inefficiency is noisy."
   ]
  },
  {
   "cell_type": "code",
   "execution_count": null,
   "metadata": {},
   "outputs": [],
   "source": [
    "# mean standard deviation from 3 replicates\n",
    "stdall = np.sqrt((std1**2+std2**2+std3**2)/3)"
   ]
  },
  {
   "cell_type": "code",
   "execution_count": null,
   "metadata": {},
   "outputs": [],
   "source": [
    "replicates = np.vstack([ncounts1,ncounts2,ncounts3])\n",
    "vals = np.mean(replicates,axis=0)\n",
    "errs = np.std(replicates,axis=0,ddof=1)\n",
    "# error in the mean,so divide by sqrt(3)\n",
    "plt.errorbar(nbins1[1:],vals,yerr=errs/np.sqrt(3),capsize=3,c='b',alpha=0.3,label='replicates')\n",
    "plt.errorbar(nbins1[1:],vals,yerr=stdall/np.sqrt(3),capsize=3,c='r',alpha=0.3,label='counts')\n",
    "plt.ylabel('total counts')\n",
    "plt.xlabel('z distance')\n",
    "plt.legend()\n",
    "plt.show()"
   ]
  },
  {
   "cell_type": "markdown",
   "metadata": {},
   "source": [
    "When looking at the error in the mean over 3 replicates, the red and blue error bars look reasonably similar. The red bars a little lower, but the blue bars were from 3 replicates, so are pretty noisy. We thus conclude the amount of error is consistent."
   ]
  },
  {
   "cell_type": "code",
   "execution_count": null,
   "metadata": {},
   "outputs": [],
   "source": []
  }
 ],
 "metadata": {
  "kernelspec": {
   "display_name": "Python 3 (ipykernel)",
   "language": "python",
   "name": "python3"
  },
  "language_info": {
   "codemirror_mode": {
    "name": "ipython",
    "version": 3
   },
   "file_extension": ".py",
   "mimetype": "text/x-python",
   "name": "python",
   "nbconvert_exporter": "python",
   "pygments_lexer": "ipython3",
   "version": "3.10.13"
  }
 },
 "nbformat": 4,
 "nbformat_minor": 2
}
