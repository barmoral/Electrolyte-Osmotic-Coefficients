{
 "cells": [
  {
   "cell_type": "code",
   "execution_count": 1,
   "metadata": {},
   "outputs": [
    {
     "name": "stderr",
     "output_type": "stream",
     "text": [
      "/tmp/ipykernel_3285946/1846008544.py:3: DeprecationWarning: \n",
      "Pyarrow will become a required dependency of pandas in the next major release of pandas (pandas 3.0),\n",
      "(to allow more performant data types, such as the Arrow string type, and better interoperability with other libraries)\n",
      "but was not found to be installed on your system.\n",
      "If this would cause problems for you,\n",
      "please provide us feedback at https://github.com/pandas-dev/pandas/issues/54466\n",
      "        \n",
      "  import pandas as pd\n"
     ]
    }
   ],
   "source": [
    "import MDAnalysis as mda\n",
    "import numpy as np\n",
    "import pandas as pd\n",
    "import matplotlib.pyplot as plt\n",
    "from MDAnalysis.lib.distances import distance_array\n",
    "from MDAnalysis import units\n",
    "from MDAnalysis.analysis import rdf\n",
    "from openmm.unit import AVOGADRO_CONSTANT_NA, BOLTZMANN_CONSTANT_kB\n",
    "from openmm.unit import kelvin, bar, litre, kilojoule_per_mole, mole, nanometer, angstrom, kilocalorie_per_mole\n",
    "from openmm.unit import Quantity, Unit\n"
   ]
  },
  {
   "cell_type": "markdown",
   "metadata": {},
   "source": [
    "## Loading data and creating atom group of ions"
   ]
  },
  {
   "cell_type": "code",
   "execution_count": 2,
   "metadata": {},
   "outputs": [
    {
     "name": "stdout",
     "output_type": "stream",
     "text": [
      "<Universe with 8159 atoms> \n",
      " <AtomGroup [<Atom 1: OW of type O of resname SOL, resid 17 and segid SYSTEM>, <Atom 2: HW1 of type H of resname SOL, resid 17 and segid SYSTEM>, <Atom 3: HW2 of type H of resname SOL, resid 17 and segid SYSTEM>, ..., <Atom 8157: OW of type O of resname SOL, resid 2725 and segid SYSTEM>, <Atom 8158: HW1 of type H of resname SOL, resid 2725 and segid SYSTEM>, <Atom 8159: HW2 of type H of resname SOL, resid 2725 and segid SYSTEM>]> \n",
      " <XTCReader md.xtc with 251 frames of 8159 atoms>\n",
      "251\n",
      "[30.211418 30.211418 90.63425 ] A\n"
     ]
    }
   ],
   "source": [
    "u = mda.Universe('md.gro', 'md.xtc')\n",
    "print(u, '\\n', u.atoms, '\\n', u.trajectory)\n",
    "\n",
    "ions= u.select_atoms('resname NA CL')\n",
    "print(len(u.trajectory))\n",
    "\n",
    "waters=u.select_atoms('resname SOL')\n",
    "nas=u.select_atoms('resname NA')\n",
    "cls=u.select_atoms('resname CL')\n",
    "\n",
    "box_size = u.dimensions[:3] * angstrom\n",
    "print(box_size)"
   ]
  },
  {
   "cell_type": "markdown",
   "metadata": {},
   "source": [
    "## Function for calculating osmotic values:"
   ]
  },
  {
   "cell_type": "code",
   "execution_count": 3,
   "metadata": {},
   "outputs": [],
   "source": [
    "\n",
    "R = BOLTZMANN_CONSTANT_kB * AVOGADRO_CONSTANT_NA # gas constant\n",
    "\n",
    "def osmotic_values(mean_force_wall, molarity :Quantity, vant_hoff : int=2, T=300*kelvin, cross_sectional_area : Quantity=30*30 * angstrom**2 ):\n",
    "    osm_press=mean_force_wall/cross_sectional_area\n",
    "    osm_bar = osm_press.in_units_of(bar / mole)\n",
    "    osm_bar = osm_bar/AVOGADRO_CONSTANT_NA\n",
    "    print(f\"Osmotic Pressure Observed:\", osm_bar)\n",
    "    osm_press_ideal=vant_hoff*molarity*R*T\n",
    "    osm_press_ideal=osm_press_ideal.in_units_of(bar)\n",
    "    print(f\"Osmotic Pressure Ideal:\", osm_press_ideal)\n",
    "    osm_coeff=osm_bar/osm_press_ideal\n",
    "    #osm_coeff=(osm_bar/(vant_hoff* molarity * R * T))*101.32 #Osmotic pressure to osmotic coefficient\n",
    "    print(f\"Osmotic Coefficient:\", osm_coeff)\n",
    "\n",
    "    return osm_coeff\n",
    "\n",
    "def calculate_net_force(z_values : np.ndarray[float], zwall : float, k : float) -> float:\n",
    "    return k * abs(z_values - zwall).sum()"
   ]
  },
  {
   "cell_type": "code",
   "execution_count": 4,
   "metadata": {},
   "outputs": [
    {
     "data": {
      "text/plain": [
       "{30: Quantity(value=0.17835820475422529, unit=kilojoule/(angstrom*mole)),\n",
       " 60: Quantity(value=5.067512510991189, unit=kilojoule/(angstrom*mole))}"
      ]
     },
     "execution_count": 4,
     "metadata": {},
     "output_type": "execute_result"
    }
   ],
   "source": [
    "k_nm = 4184 * kilojoule_per_mole / nanometer**2\n",
    "k = k_nm.in_units_of(kilojoule_per_mole / angstrom**2)\n",
    "\n",
    "walls_z_pos = np.array([30, 60]) * angstrom\n",
    "forces_at_ts = {\n",
    "    30 : [],\n",
    "    60 : []\n",
    "}\n",
    "for _ in u.trajectory:\n",
    "    ions_z = ions.positions[:,2]*angstrom\n",
    "    force_30 = calculate_net_force(\n",
    "        z_values=ions_z[ions_z < 30*angstrom],\n",
    "        zwall=30*angstrom,\n",
    "        k=k\n",
    "    )\n",
    "    forces_at_ts[30].append(force_30)\n",
    "\n",
    "    force_60 = calculate_net_force(\n",
    "        z_values=ions_z[ions_z > 60*angstrom],\n",
    "        zwall=60*angstrom,\n",
    "        k=k\n",
    "    )\n",
    "    forces_at_ts[60].append(force_60)\n",
    "\n",
    "mean_forces = {\n",
    "    abs_wall_z : sum(force_list, start=0*(kilojoule_per_mole / angstrom)) / len(u.trajectory)\n",
    "        for abs_wall_z, force_list in forces_at_ts.items()\n",
    "}\n",
    "mean_forces"
   ]
  },
  {
   "cell_type": "code",
   "execution_count": 5,
   "metadata": {},
   "outputs": [
    {
     "name": "stdout",
     "output_type": "stream",
     "text": [
      "0.9702990286768957 mol/L\n",
      "30\n",
      "Osmotic Pressure Observed: 3.244889865554619 bar\n",
      "Osmotic Pressure Ideal: 48.40509001418668 bar\n",
      "Osmotic Coefficient: 0.06703612914682316\n",
      "60\n",
      "Osmotic Pressure Observed: 92.1937962604269 bar\n",
      "Osmotic Pressure Ideal: 48.40509001418668 bar\n",
      "Osmotic Coefficient: 1.904630199704339\n"
     ]
    }
   ],
   "source": [
    "box_x = box_size[0]\n",
    "box_y = box_size[1]\n",
    "A_box = box_x * box_y\n",
    "\n",
    "dim_mem = walls_z_pos.ptp() * walls_z_pos.unit\n",
    "V_mem = A_box * dim_mem\n",
    "\n",
    "n_part = 16\n",
    "M = n_part / (V_mem * AVOGADRO_CONSTANT_NA)\n",
    "M = M.in_units_of(mole / litre)\n",
    "print(M)\n",
    "\n",
    "for wall_z_val, mF in mean_forces.items():\n",
    "    print(wall_z_val)\n",
    "    o = osmotic_values(mF, molarity=M, cross_sectional_area=A_box)"
   ]
  },
  {
   "cell_type": "code",
   "execution_count": 6,
   "metadata": {},
   "outputs": [
    {
     "name": "stdout",
     "output_type": "stream",
     "text": [
      "Osmotic Pressure Observed: 47.71934306299075 bar\n",
      "Osmotic Pressure Ideal: 48.40509001418668 bar\n",
      "Osmotic Coefficient: 0.9858331644255811\n"
     ]
    }
   ],
   "source": [
    "av_mF=(mean_forces[30]+mean_forces[60])/2\n",
    "o = osmotic_values(av_mF, molarity=M, cross_sectional_area=A_box)"
   ]
  },
  {
   "cell_type": "markdown",
   "metadata": {},
   "source": [
    "## Na-Oxygen Distances (RDF)"
   ]
  },
  {
   "cell_type": "code",
   "execution_count": 9,
   "metadata": {},
   "outputs": [
    {
     "data": {
      "text/plain": [
       "Text(0.5, 1.0, 'Na-Oxygen Distances')"
      ]
     },
     "execution_count": 9,
     "metadata": {},
     "output_type": "execute_result"
    },
    {
     "data": {
      "image/png": "[encoded data removed]",
      "text/plain": [
       "<Figure size 640x480 with 1 Axes>"
      ]
     },
     "metadata": {},
     "output_type": "display_data"
    }
   ],
   "source": [
    "from MDAnalysis.analysis.rdf import InterRDF\n",
    "ows=u.select_atoms('name OW')\n",
    "irdf = InterRDF(ows, nas, nbins=75, range=(0,10))\n",
    "irdf.run(start=-200)\n",
    "\n",
    "\n",
    "plt.plot(irdf.results.bins, irdf.results.rdf)\n",
    "plt.xlabel('r ($\\AA$)')\n",
    "plt.ylabel('g(r)')\n",
    "plt.title('Na-Oxygen Distances')"
   ]
  },
  {
   "cell_type": "markdown",
   "metadata": {},
   "source": [
    "## Cl-Oxygen Distances (RDF)"
   ]
  },
  {
   "cell_type": "code",
   "execution_count": 10,
   "metadata": {},
   "outputs": [
    {
     "data": {
      "text/plain": [
       "Text(0.5, 1.0, 'Cl-Oxygen Distances')"
      ]
     },
     "execution_count": 10,
     "metadata": {},
     "output_type": "execute_result"
    },
    {
     "data": {
      "image/png": "[encoded data removed]",
      "text/plain": [
       "<Figure size 640x480 with 1 Axes>"
      ]
     },
     "metadata": {},
     "output_type": "display_data"
    }
   ],
   "source": [
    "irdf = InterRDF(ows, cls, nbins=75, range=(0,10))\n",
    "irdf.run(start=-200)\n",
    "\n",
    "\n",
    "plt.plot(irdf.results.bins, irdf.results.rdf)\n",
    "plt.xlabel('r ($\\AA$)')\n",
    "plt.ylabel('g(r)')\n",
    "plt.title('Cl-Oxygen Distances')"
   ]
  },
  {
   "cell_type": "code",
   "execution_count": null,
   "metadata": {},
   "outputs": [],
   "source": []
  }
 ],
 "metadata": {
  "kernelspec": {
   "display_name": "mdanalysis",
   "language": "python",
   "name": "python3"
  },
  "language_info": {
   "codemirror_mode": {
    "name": "ipython",
    "version": 3
   },
   "file_extension": ".py",
   "mimetype": "text/x-python",
   "name": "python",
   "nbconvert_exporter": "python",
   "pygments_lexer": "ipython3",
   "version": "3.10.13"
  }
 },
 "nbformat": 4,
 "nbformat_minor": 2
}
