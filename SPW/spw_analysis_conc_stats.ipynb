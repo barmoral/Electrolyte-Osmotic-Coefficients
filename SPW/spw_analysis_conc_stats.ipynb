{
 "cells": [
  {
   "cell_type": "markdown",
   "metadata": {},
   "source": [
    "## Imports"
   ]
  },
  {
   "cell_type": "code",
   "execution_count": 1,
   "metadata": {},
   "outputs": [
    {
     "name": "stderr",
     "output_type": "stream",
     "text": [
      "/tmp/ipykernel_7172/3824394281.py:3: DeprecationWarning: \n",
      "Pyarrow will become a required dependency of pandas in the next major release of pandas (pandas 3.0),\n",
      "(to allow more performant data types, such as the Arrow string type, and better interoperability with other libraries)\n",
      "but was not found to be installed on your system.\n",
      "If this would cause problems for you,\n",
      "please provide us feedback at https://github.com/pandas-dev/pandas/issues/54466\n",
      "        \n",
      "  import pandas as pd\n",
      "Warning on use of the timeseries module: If the inherent timescales of the system are long compared to those being analyzed, this statistical inefficiency may be an underestimate.  The estimate presumes the use of many statistically independent samples.  Tests should be performed to assess whether this condition is satisfied.   Be cautious in the interpretation of the data.\n",
      "\n",
      "****** PyMBAR will use 64-bit JAX! *******\n",
      "* JAX is currently set to 32-bit bitsize *\n",
      "* which is its default.                  *\n",
      "*                                        *\n",
      "* PyMBAR requires 64-bit mode and WILL   *\n",
      "* enable JAX's 64-bit mode when called.  *\n",
      "*                                        *\n",
      "* This MAY cause problems with other     *\n",
      "* Uses of JAX in the same code.          *\n",
      "******************************************\n",
      "\n"
     ]
    }
   ],
   "source": [
    "import MDAnalysis as mda\n",
    "import numpy as np\n",
    "import pandas as pd\n",
    "import matplotlib.pyplot as plt\n",
    "from MDAnalysis.lib.distances import distance_array\n",
    "from MDAnalysis import units\n",
    "from MDAnalysis.analysis import rdf\n",
    "from openmm.unit import AVOGADRO_CONSTANT_NA, BOLTZMANN_CONSTANT_kB\n",
    "from openmm.unit import kelvin, bar, litre, kilojoule_per_mole, mole, nanometer, angstrom, kilocalorie_per_mole, molal, molar,grams,milliliter,kilogram\n",
    "from openmm.unit import Quantity, Unit\n",
    "import quantities\n",
    "from matplotlib import colors\n",
    "from matplotlib.ticker import PercentFormatter\n",
    "from pymbar import timeseries\n",
    "from MDAnalysis.analysis import density\n",
    "from tqdm import tqdm\n"
   ]
  },
  {
   "cell_type": "markdown",
   "metadata": {},
   "source": [
    "## Loading data and creating atom group of ions"
   ]
  },
  {
   "cell_type": "code",
   "execution_count": 107,
   "metadata": {},
   "outputs": [],
   "source": [
    "u = mda.Universe('md.gro', 'md.xtc')\n",
    "u.transfer_to_memory()\n",
    "ions= u.select_atoms('resname SOD CLA')\n",
    "\n",
    "u2 = mda.Universe('md2m.gro', 'md2m.xtc')\n",
    "u2.transfer_to_memory()\n",
    "ions2= u2.select_atoms('resname SOD CLA')\n",
    "\n",
    "u2l = mda.Universe('md2ml.gro', 'md2ml.xtc')\n",
    "u2l.transfer_to_memory()\n",
    "ions2l= u2l.select_atoms('resname SOD CLA')\n",
    "\n",
    "u3 = mda.Universe('md3m.gro', 'md3m.xtc')\n",
    "u3.transfer_to_memory()\n",
    "ions3= u3.select_atoms('resname SOD CLA')\n",
    "\n",
    "u3l = mda.Universe('md3ml.gro', 'md3ml.xtc')\n",
    "u3l.transfer_to_memory()\n",
    "ions3l= u3l.select_atoms('resname SOD CLA')"
   ]
  },
  {
   "cell_type": "code",
   "execution_count": 23,
   "metadata": {},
   "outputs": [
    {
     "name": "stdout",
     "output_type": "stream",
     "text": [
      "Osmotic Pressure Ideal: 95.93226968825209 bar\n",
      "Osmotic Pressure Ideal: 140.83036782627957 bar\n"
     ]
    }
   ],
   "source": [
    "R = BOLTZMANN_CONSTANT_kB * AVOGADRO_CONSTANT_NA # gas constant\n",
    "\n",
    "\n",
    "def osmotic_ideal(molarity, vant_hoff:int=2, T=300*kelvin):\n",
    "    osm_press_ideal=vant_hoff*molarity*R*T\n",
    "    osm_press_ideal=osm_press_ideal.in_units_of(bar)\n",
    "    print(f\"Osmotic Pressure Ideal:\", osm_press_ideal)\n",
    "    return osm_press_ideal\n",
    "\n",
    "oi2=osmotic_ideal(1.923*(mole/litre),2,300*kelvin)\n",
    "oi3=osmotic_ideal(2.823*(mole/litre),2,300*kelvin)"
   ]
  },
  {
   "cell_type": "markdown",
   "metadata": {},
   "source": [
    "## Function for calculating osmotic values:"
   ]
  },
  {
   "cell_type": "code",
   "execution_count": 65,
   "metadata": {},
   "outputs": [],
   "source": [
    "def SPW_analysis(u, ions, molal_conc):\n",
    "\n",
    "## defining variables\n",
    "    box_size = u.dimensions[:3] * angstrom\n",
    "    wall1=box_size[2]/2-24*angstrom\n",
    "    wall2=box_size[2]/2+24*angstrom\n",
    "    R = BOLTZMANN_CONSTANT_kB * AVOGADRO_CONSTANT_NA # gas constant\n",
    "\n",
    "    box_x = box_size[0]\n",
    "    box_y = box_size[1]\n",
    "\n",
    "    A_box = (box_x * box_y)\n",
    "\n",
    "    dim_mem = wall2-wall1\n",
    "    V_mem = A_box * dim_mem\n",
    "    #print(V_mem)\n",
    "    \n",
    "\n",
    "    if molal_conc == 1:\n",
    "        print(f'--Data for {molal_conc} m concentration--')\n",
    "        n_part = 65\n",
    "        nacl_dens=1.03621*(grams/milliliter)\n",
    "\n",
    "    elif molal_conc == 2:\n",
    "        print(f'--Data for {molal_conc} m concentration--')\n",
    "        n_part = 128\n",
    "        nacl_dens=1.07227*(grams/milliliter)\n",
    "    elif molal_conc == 3:\n",
    "        print(f'--Data for {molal_conc} m concentration--')\n",
    "        n_part = 188\n",
    "        nacl_dens=1.10579*(grams/milliliter)\n",
    "\n",
    "    M = n_part / (V_mem * AVOGADRO_CONSTANT_NA)\n",
    "    M = M.in_units_of(mole / litre)\n",
    "    print(M)\n",
    "\n",
    "\n",
    "    \n",
    "## calculation of osmotic values\n",
    "\n",
    "    def osmotic_values(mean_force_wall, molarity=M, vant_hoff:int=2, T=300*kelvin, cross_sectional_area:Quantity=(wall1*wall2)):\n",
    "        osm_press=mean_force_wall/cross_sectional_area\n",
    "        osm_bar = osm_press.in_units_of(bar / mole)\n",
    "        osm_bar = osm_bar/AVOGADRO_CONSTANT_NA\n",
    "        print(f\"Osmotic Pressure Observed:\", osm_bar)\n",
    "        osm_press_ideal=vant_hoff*molarity*R*T\n",
    "        osm_press_ideal=osm_press_ideal.in_units_of(bar)\n",
    "        print(f\"Osmotic Pressure Ideal:\", osm_press_ideal)\n",
    "        osm_coeff=osm_bar/osm_press_ideal\n",
    "        print(f\"Osmotic Coefficient:\", osm_coeff)\n",
    "        op_error=(abs(osm_bar-osm_press_ideal)/osm_press_ideal)*100\n",
    "        print(f\"Osmotic Pressure Error:\", op_error)\n",
    "        return osm_bar,osm_coeff\n",
    "    \n",
    "    def osmotic_values_noprint(mean_force_wall, molarity=M, vant_hoff:int=2, T=300*kelvin, cross_sectional_area:Quantity=(wall1*wall2)):\n",
    "        osm_press=mean_force_wall/cross_sectional_area\n",
    "        osm_bar = osm_press.in_units_of(bar / mole)\n",
    "        osm_bar = osm_bar/AVOGADRO_CONSTANT_NA\n",
    "        osm_press_ideal=vant_hoff*molarity*R*T\n",
    "        osm_press_ideal=osm_press_ideal.in_units_of(bar)\n",
    "        osm_coeff=osm_bar/osm_press_ideal\n",
    "        op_error=(abs(osm_bar-osm_press_ideal)/osm_press_ideal)*100\n",
    "        return osm_bar,osm_coeff\n",
    "\n",
    "\n",
    "\n",
    "## calculation of mean force\n",
    "    \n",
    "    def calculate_net_force(z_values : np.ndarray[float], zwall : float, k : float) -> float:\n",
    "        return k * abs(z_values - zwall).sum()\n",
    "\n",
    "    k_nm = 4184 * kilojoule_per_mole / nanometer**2\n",
    "    k = k_nm.in_units_of(kilojoule_per_mole / angstrom**2)\n",
    "\n",
    "    walls_z_pos = np.array([48, 96]) * angstrom\n",
    "    forces_at_ts = {\n",
    "        48 : [],\n",
    "        96 : []\n",
    "    }\n",
    "\n",
    "    for _ in u.trajectory:\n",
    "        ions_z = ions.positions[:,2]*angstrom\n",
    "        force_48 = calculate_net_force(\n",
    "            z_values=ions_z[ions_z < wall1],\n",
    "            zwall=wall1,\n",
    "            k=k\n",
    "        )\n",
    "        forces_at_ts[48].append(force_48)\n",
    "\n",
    "        force_96 = calculate_net_force(\n",
    "            z_values=ions_z[ions_z > wall2],\n",
    "            zwall=wall2,\n",
    "            k=k\n",
    "        )\n",
    "        forces_at_ts[96].append(force_96)\n",
    "\n",
    "    mean_forces = {\n",
    "        abs_wall_z : sum(force_list, start=0*(kilojoule_per_mole / angstrom)) / len(u.trajectory)\n",
    "            for abs_wall_z, force_list in forces_at_ts.items()\n",
    "    }\n",
    "\n",
    "    print('mean forces =', mean_forces)\n",
    "\n",
    "\n",
    "## calling calculation of osmotic values\n",
    "    \n",
    "    for wall_z_val, mF in mean_forces.items():\n",
    "        print(wall_z_val)\n",
    "        o = osmotic_values(mF, molarity=M, cross_sectional_area=A_box)\n",
    "\n",
    "\n",
    "    # print(\"Average between 2 walls: \")\n",
    "    # av_mF=(mean_forces[48]+mean_forces[96])/2\n",
    "    # o = osmotic_values(av_mF, molarity=M, cross_sectional_area=A_box)\n",
    "\n",
    "## number of ions per z coordinate (both observed through the system and outside the walls)\n",
    "    ions_at_48=[]\n",
    "    ions_at_96=[]\n",
    "    zpositions=[]\n",
    "\n",
    "    for _ in u.trajectory:\n",
    "        ions_z = ions.positions[:,2]*angstrom\n",
    "        zpositions.append(ions_z)\n",
    "        z_values48=ions_z[ions_z < wall1]\n",
    "        z_values96=ions_z[ions_z > wall2]\n",
    "        ions_at_48.append(z_values48)\n",
    "        ions_at_96.append(z_values96)\n",
    "\n",
    "    # plt.hist(ions_at_48,bins='auto',edgecolor='blue')\n",
    "    # plt.xlabel('z coordinates (A)')\n",
    "    # plt.ylabel('Number of Ions')\n",
    "    # plt.title('Number of ions outside of wall at 4.8 nm')\n",
    "    # plt.axis([47, 48, 0, 2.5])\n",
    "    # # Display the plot\n",
    "    # plt.grid(True)\n",
    "    # plt.show()\n",
    "\n",
    "    # plt.hist(ions_at_96,bins='auto',edgecolor='red')\n",
    "    # plt.xlabel('z coordinates (A)')\n",
    "    # plt.ylabel('Number of Ions')\n",
    "    # plt.title('Number of ions outside of wall at 9.6 nm')\n",
    "    # plt.axis([96, 97, 0, 2.5])\n",
    "    # plt.grid(True)\n",
    "    # plt.show()\n",
    "\n",
    "    # plt.hist(zpositions,bins='auto',edgecolor='green')\n",
    "    # plt.xlabel('z coordinates (A)')\n",
    "    # plt.ylabel('Number of Ions')\n",
    "    # plt.title('Number of ions per z coordinate')\n",
    "    # plt.grid(True)\n",
    "    # plt.show()\n",
    "\n",
    "## plotting force vs time\n",
    "\n",
    "    list48=forces_at_ts[48]\n",
    "    list96=forces_at_ts[96]\n",
    "    f48=[]\n",
    "    f96=[]\n",
    "    time=[]\n",
    "    for i,ts in enumerate(u.trajectory):\n",
    "        time.append(u.trajectory.time)\n",
    "        val48=list48[i]\n",
    "        val96=list96[i]\n",
    "        f48.append(val48.item())\n",
    "        f96.append(val96.item())\n",
    "\n",
    "    # plt.plot(time,f96, color='r', label='9.6 nm')\n",
    "    # plt.plot(time,f48, color='g', label='4.8 nm')\n",
    "    # plt.ylabel(\"Forces\")\n",
    "    # plt.xlabel(\"Time\")\n",
    "    # plt.title(\"Forces vs time\")\n",
    "    # plt.legend()\n",
    "    # plt.show()\n",
    "\n",
    "\n",
    "    print(\"----------------------------------------------------------------\")\n",
    "\n",
    "## calculation of autocorrelation function and plot of uncorrelated samples\n",
    "    \n",
    "    fts48=np.array(f48)\n",
    "    fts96=np.array(f96)\n",
    "\n",
    "    nskip=100\n",
    "    t0, g, Neff_max = timeseries.detect_equilibration(fts48,nskip=nskip) # compute indices of uncorrelated timeseries\n",
    "    fts48_equil = fts48[t0:]\n",
    "    indices48 = timeseries.subsample_correlated_data(fts48_equil, g=g)\n",
    "    fts48_s = fts48_equil[indices48]\n",
    "\n",
    "    indt48=[]\n",
    "    for i in indices48:\n",
    "        indt48.append(time[i])\n",
    "\n",
    "    print(\"---Wall 4.8 nm---\")\n",
    "    print('t0 =', t0,' g =',g,' Neff_max =', Neff_max)\n",
    "    #mean of full time series\n",
    "    meanf48=np.mean(f48)\n",
    "    meanf48=meanf48*kilojoule_per_mole/angstrom\n",
    "    #stdev of the full timeseries devided by sqrt of the number of effective samples -1\n",
    "    sterrf48=np.std(f48)/np.sqrt(len(indt48)-1)\n",
    "    # squared_diff48 = (f48*kilojoule_per_mole/angstrom - meanf48) ** 2\n",
    "    varf48 = sterrf48**2\n",
    "\n",
    "    print(f\"Mean = {meanf48}, std error = {sterrf48}, variance = {varf48}\",'\\n')\n",
    "\n",
    "    # plt.plot(time,f48)\n",
    "    # plt.scatter(indt48, fts48_s, color='m', marker='o')\n",
    "    # plt.ylabel(\"Forces\")\n",
    "    # plt.xlabel(\"Time\")\n",
    "    # plt.title(\"Forces at 4.8 nm Wall\")\n",
    "    # plt.show()\n",
    "\n",
    "    t0, g, Neff_max = timeseries.detect_equilibration(fts96,nskip=nskip) # compute indices of uncorrelated timeseries\n",
    "    fts96_equil = fts96[t0:]\n",
    "    indices96 = timeseries.subsample_correlated_data(fts96_equil, g=g)\n",
    "    fts96_s = fts96_equil[indices96]\n",
    "\n",
    "    indt96=[]\n",
    "    for i in indices96:\n",
    "        indt96.append(time[i])\n",
    "\n",
    "\n",
    "    print(\"---Wall 9.6 nm---\")\n",
    "    #statistical values of t0 (time after equil), g (statistical efficiency/correlation time of equil data), Neff (# of eff samples)\n",
    "    print('t0 =', t0,' g =',g,' Neff_max =', Neff_max)\n",
    "    #mean of full time series\n",
    "    meanf96=np.mean(f96)\n",
    "    meanf96=meanf96*mF.unit\n",
    "    #stdev of the full timeseries devided by sqrt of the number of effective samples -1\n",
    "    sterrf96=np.std(f96)/np.sqrt(len(indt96)-1)\n",
    "    # squared_diff96 = (f96*kilojoule_per_mole/angstrom - meanf96) ** 2\n",
    "    varf96 = sterrf96**2\n",
    "    print(f\"Mean = {meanf96}, std error = {sterrf96}, variance = {varf96}\",'\\n')\n",
    "\n",
    "    # plt.plot(time, f96, c='g')\n",
    "    # plt.scatter(indt96, fts96_s, color='m', marker='o')\n",
    "    # plt.ylabel(\"Forces\")\n",
    "    # plt.xlabel(\"Time\")\n",
    "    # plt.title(\"Forces at 9.6 nm Wall\")\n",
    "    # plt.show()\n",
    "\n",
    "    def comb_SEM(sem1,sem2,n1,n2):\n",
    "        \"\"\"\n",
    "        Calculate the standard error of the mean for combined data.\n",
    "\n",
    "        Args:\n",
    "        sem1 (float): Standard error of the mean for the first set of data.\n",
    "        sem2 (float): Standard error of the mean for the second set of data.\n",
    "        n1 (int): Sample size of the first set of data.\n",
    "        n2 (int): Sample size of the second set of data.\n",
    "\n",
    "        Returns:\n",
    "        float: The standard error of the mean for combined data.\n",
    "        \"\"\"\n",
    "        combined_sem = np.sqrt((sem1**2 * (n1 - 1) + sem2**2 * (n2 - 1)) / (n1 + n2 - 2))\n",
    "        return combined_sem\n",
    "    \n",
    "    print(\"---Statistical Analysis results---\")\n",
    "    #average between two walls\n",
    "    statmeanF=(meanf48+meanf96)/2\n",
    "    errvar=np.sqrt((varf48+varf96)/2)\n",
    "    comberror=comb_SEM(sterrf48,sterrf96,len(indt48),len(indt96))\n",
    "    print(f'Mean force between two walls: {statmeanF}')\n",
    "    print(f'Mean std error between two walls: +/-{comberror} or {errvar}')\n",
    "    \n",
    "    errvar=errvar*(kilojoule_per_mole/angstrom)\n",
    "    print(\"------------------------------------------------------------------------\")\n",
    "\n",
    "    print(f\"FINAL STATISTICAL RESULTS FOR {molal_conc} MOLAL:\")\n",
    "    \n",
    "    print(\"------------------------------------------------------------------------\")   \n",
    "    #calculation of osmotic values from statistical mean and std error\n",
    "    osmval = osmotic_values_noprint(statmeanF, molarity=M, cross_sectional_area=A_box) \n",
    "    osmerr = osmotic_values_noprint(errvar, molarity=M, cross_sectional_area=A_box)\n",
    "\n",
    "    print(f\"Osmotic Pressure = {osmval[0]} +/- {osmerr[0]} \\nOsmotic Coefficient = {osmval[1]} +/- {osmerr[1]}\")\n",
    "\n",
    "    return osmval[0],osmerr[0],M"
   ]
  },
  {
   "cell_type": "code",
   "execution_count": 105,
   "metadata": {},
   "outputs": [
    {
     "name": "stdout",
     "output_type": "stream",
     "text": [
      "--Data for 1 m concentration--\n",
      "0.9759751100106702 mol/L\n",
      "mean forces = {48: Quantity(value=7.4354052386822325, unit=kilojoule/(angstrom*mole)), 96: Quantity(value=6.302078656816847, unit=kilojoule/(angstrom*mole))}\n",
      "48\n",
      "Osmotic Pressure Observed: 53.588458676653325 bar\n",
      "Osmotic Pressure Ideal: 48.688251410590276 bar\n",
      "Osmotic Coefficient: 1.1006445523117965\n",
      "Osmotic Pressure Error: 10.064455231179643\n",
      "96\n",
      "Osmotic Pressure Observed: 45.42034641513391 bar\n",
      "Osmotic Pressure Ideal: 48.688251410590276 bar\n",
      "Osmotic Coefficient: 0.9328810359629068\n",
      "Osmotic Pressure Error: 6.711896403709323\n",
      "----------------------------------------------------------------\n",
      "---Wall 4.8 nm---\n",
      "t0 = 0  g = 2.5294485  Neff_max = 396.1338\n",
      "Mean = 7.4354052386822165 kJ/(A mol), std error = 0.4959716177125515, variance = 0.24598784557640532 \n",
      "\n",
      "---Wall 9.6 nm---\n",
      "t0 = 0  g = 1.4182512  Neff_max = 706.5039\n",
      "Mean = 6.302078656816817 kJ/(A mol), std error = 0.3286609869085206, variance = 0.10801804431568274 \n",
      "\n",
      "---Statistical Analysis results---\n",
      "Mean force between two walls: 6.868741947749516 kJ/(A mol)\n",
      "Mean std error between two walls: +/-0.3969404812783494 or 0.42071717928561464\n",
      "------------------------------------------------------------------------\n",
      "FINAL STATISTICAL RESULTS FOR 1 MOLAL:\n",
      "------------------------------------------------------------------------\n",
      "Osmotic Pressure = 49.50440254589345 bar +/- 3.032193196332233 bar \n",
      "Osmotic Coefficient = 1.0167627941373483 +/- 0.06227771810413991\n"
     ]
    }
   ],
   "source": [
    "m1=SPW_analysis(u,ions,1)\n",
    "m1op=m1[0]\n",
    "m1err=m1[1]\n",
    "xc1=m1[2]\n"
   ]
  },
  {
   "cell_type": "code",
   "execution_count": 70,
   "metadata": {},
   "outputs": [
    {
     "name": "stdout",
     "output_type": "stream",
     "text": [
      "--Data for 2 m concentration--\n",
      "1.9219202166363967 mol/L\n",
      "mean forces = {48: Quantity(value=16.208342570820346, unit=kilojoule/(angstrom*mole)), 96: Quantity(value=14.903531014883542, unit=kilojoule/(angstrom*mole))}\n",
      "48\n",
      "Osmotic Pressure Observed: 116.81677974385488 bar\n",
      "Osmotic Pressure Ideal: 95.87840277777778 bar\n",
      "Osmotic Coefficient: 1.2183847077073973\n",
      "Osmotic Pressure Error: 21.838470770739722\n",
      "96\n",
      "Osmotic Pressure Observed: 107.41274083789585 bar\n",
      "Osmotic Pressure Ideal: 95.87840277777778 bar\n",
      "Osmotic Coefficient: 1.12030173350772\n",
      "Osmotic Pressure Error: 12.030173350772012\n",
      "----------------------------------------------------------------\n",
      "---Wall 4.8 nm---\n",
      "t0 = 0  g = 1.3539375  Neff_max = 740.0637\n",
      "Mean = 16.208342570820296 kJ/(A mol), std error = 0.5255904021831026, variance = 0.2762452708669955 \n",
      "\n",
      "---Wall 9.6 nm---\n",
      "t0 = 0  g = 1.6412921  Neff_max = 610.4946\n",
      "Mean = 14.903531014883555 kJ/(A mol), std error = 0.5383090195842464, variance = 0.28977660056575255 \n",
      "\n",
      "---Statistical Analysis results---\n",
      "Mean force between two walls: 15.555936792851925 kJ/(A mol)\n",
      "Mean std error between two walls: +/-0.5313783953018838 or 0.53198772139625\n",
      "------------------------------------------------------------------------\n",
      "FINAL STATISTICAL RESULTS FOR 2 MOLAL:\n",
      "------------------------------------------------------------------------\n",
      "Osmotic Pressure = 112.11476029087522 bar +/- 3.8341423378266883 bar \n",
      "Osmotic Coefficient = 1.1693432206075574 +/- 0.03998963506633787\n"
     ]
    }
   ],
   "source": [
    "m2=SPW_analysis(u2,ions2,2)\n",
    "m2op=m2[0]\n",
    "m2err=m2[1]\n",
    "xc2=m2[2]\n"
   ]
  },
  {
   "cell_type": "code",
   "execution_count": 108,
   "metadata": {},
   "outputs": [
    {
     "name": "stdout",
     "output_type": "stream",
     "text": [
      "--Data for 2 m concentration--\n",
      "1.9219202166363967 mol/L\n",
      "mean forces = {48: Quantity(value=15.719248156665167, unit=kilojoule/(angstrom*mole)), 96: Quantity(value=15.070309332759269, unit=kilojoule/(angstrom*mole))}\n",
      "48\n",
      "Osmotic Pressure Observed: 113.29177808482196 bar\n",
      "Osmotic Pressure Ideal: 95.87840277777778 bar\n",
      "Osmotic Coefficient: 1.1816193720644685\n",
      "Osmotic Pressure Error: 18.161937206446837\n",
      "96\n",
      "Osmotic Pressure Observed: 108.61474566597825 bar\n",
      "Osmotic Pressure Ideal: 95.87840277777778 bar\n",
      "Osmotic Coefficient: 1.1328384966708316\n",
      "Osmotic Pressure Error: 13.283849667083144\n",
      "----------------------------------------------------------------\n",
      "---Wall 4.8 nm---\n",
      "t0 = 300  g = 1.3775529  Neff_max = 872.56177\n",
      "Mean = 15.719248156665088 kJ/(A mol), std error = 0.47108830190362266, variance = 0.22192418819043874 \n",
      "\n",
      "---Wall 9.6 nm---\n",
      "t0 = 0  g = 1.7744586  Neff_max = 846.4553\n",
      "Mean = 15.070309332759281 kJ/(A mol), std error = 0.4547572279854538, variance = 0.20680413640501402 \n",
      "\n",
      "---Statistical Analysis results---\n",
      "Mean force between two walls: 15.394778744712184 kJ/(A mol)\n",
      "Mean std error between two walls: +/-0.4631184601639041 or 0.46299477567001374\n",
      "------------------------------------------------------------------------\n",
      "FINAL STATISTICAL RESULTS FOR 2 MOLAL:\n",
      "------------------------------------------------------------------------\n",
      "Osmotic Pressure = 110.95326187539986 bar +/- 3.336896323339622 bar \n",
      "Osmotic Coefficient = 1.1572289343676474 +/- 0.034803420026444494\n"
     ]
    }
   ],
   "source": [
    "m2l=SPW_analysis(u2l,ions2l,2)\n",
    "m2opl=m2l[0]\n",
    "m2errl=m2l[1]\n",
    "xc2l=m2l[2]"
   ]
  },
  {
   "cell_type": "code",
   "execution_count": 106,
   "metadata": {},
   "outputs": [
    {
     "name": "stdout",
     "output_type": "stream",
     "text": [
      "--Data for 3 m concentration--\n",
      "2.8228203181847076 mol/L\n",
      "mean forces = {48: Quantity(value=25.727778751704886, unit=kilojoule/(angstrom*mole)), 96: Quantity(value=24.560821984412033, unit=kilojoule/(angstrom*mole))}\n",
      "48\n",
      "Osmotic Pressure Observed: 185.42526792018722 bar\n",
      "Osmotic Pressure Ideal: 140.8214040798611 bar\n",
      "Osmotic Coefficient: 1.316740655525852\n",
      "Osmotic Pressure Error: 31.674065552585212\n",
      "96\n",
      "Osmotic Pressure Observed: 177.01477615893427 bar\n",
      "Osmotic Pressure Ideal: 140.8214040798611 bar\n",
      "Osmotic Coefficient: 1.2570161284469765\n",
      "Osmotic Pressure Error: 25.701612844697646\n",
      "----------------------------------------------------------------\n",
      "---Wall 4.8 nm---\n",
      "t0 = 300  g = 1.2721992  Neff_max = 551.8004\n",
      "Mean = 25.727778751704843 kJ/(A mol), std error = 0.742711152520622, variance = 0.5516198560785107 \n",
      "\n",
      "---Wall 9.6 nm---\n",
      "t0 = 0  g = 1.4104737  Neff_max = 710.39966\n",
      "Mean = 24.560821984412076 kJ/(A mol), std error = 0.6564790511337972, variance = 0.43096474457753076 \n",
      "\n",
      "---Statistical Analysis results---\n",
      "Mean force between two walls: 25.14430036805846 kJ/(A mol)\n",
      "Mean std error between two walls: +/-0.695466383562947 or 0.7009224638489059\n",
      "------------------------------------------------------------------------\n",
      "FINAL STATISTICAL RESULTS FOR 3 MOLAL:\n",
      "------------------------------------------------------------------------\n",
      "Osmotic Pressure = 181.22002203956075 bar +/- 5.051688950871772 bar \n",
      "Osmotic Coefficient = 1.2868783919864142 +/- 0.035873019331684214\n"
     ]
    }
   ],
   "source": [
    "m3=SPW_analysis(u3,ions3,3)\n",
    "m3op=m3[0]\n",
    "m3err=m3[1]\n",
    "xc3=m3[2]"
   ]
  },
  {
   "cell_type": "code",
   "execution_count": 99,
   "metadata": {},
   "outputs": [
    {
     "name": "stdout",
     "output_type": "stream",
     "text": [
      "--Data for 3 m concentration--\n",
      "2.8228203181847076 mol/L\n",
      "mean forces = {48: Quantity(value=25.127709083633384, unit=kilojoule/(angstrom*mole)), 96: Quantity(value=24.136804482639775, unit=kilojoule/(angstrom*mole))}\n",
      "48\n",
      "Osmotic Pressure Observed: 181.10044532097382 bar\n",
      "Osmotic Pressure Ideal: 140.8214040798611 bar\n",
      "Osmotic Coefficient: 1.2860292546030154\n",
      "Osmotic Pressure Error: 28.60292546030154\n",
      "96\n",
      "Osmotic Pressure Observed: 173.95879687569516 bar\n",
      "Osmotic Pressure Ideal: 140.8214040798611 bar\n",
      "Osmotic Coefficient: 1.2353150290778347\n",
      "Osmotic Pressure Error: 23.531502907783484\n",
      "----------------------------------------------------------------\n",
      "---Wall 4.8 nm---\n",
      "t0 = 300  g = 1.2168076  Neff_max = 987.83075\n",
      "Mean = 25.127709083633373 kJ/(A mol), std error = 0.5575998358335503, variance = 0.31091757692160227 \n",
      "\n",
      "---Wall 9.6 nm---\n",
      "t0 = 0  g = 1.3382856  Neff_max = 1122.3314\n",
      "Mean = 24.13680448263983 kJ/(A mol), std error = 0.5103551846332482, variance = 0.2604624144820369 \n",
      "\n",
      "---Statistical Analysis results---\n",
      "Mean force between two walls: 24.6322567831366 kJ/(A mol)\n",
      "Mean std error between two walls: +/-0.5329855631945687 or 0.5344997621157745\n",
      "------------------------------------------------------------------------\n",
      "FINAL STATISTICAL RESULTS FOR 3 MOLAL:\n",
      "------------------------------------------------------------------------\n",
      "Osmotic Pressure = 177.52962109833467 bar +/- 3.8522471197411945 bar \n",
      "Osmotic Coefficient = 1.2606721418404263 +/- 0.02735555113167704\n"
     ]
    }
   ],
   "source": [
    "m3l=SPW_analysis(u3l,ions3l,3)\n",
    "m3opl=m3l[0]\n",
    "m3errl=m3l[1]\n",
    "xc3l=m3l[2]"
   ]
  },
  {
   "cell_type": "code",
   "execution_count": 102,
   "metadata": {},
   "outputs": [
    {
     "data": {
      "image/png": "[encoded data removed]",
      "text/plain": [
       "<Figure size 640x480 with 1 Axes>"
      ]
     },
     "metadata": {},
     "output_type": "display_data"
    }
   ],
   "source": [
    "yOP=[m1op._value,m2op._value,m3op._value]\n",
    "yerrs=[m1err._value,m2err._value,m3err._value]\n",
    "yroux=[49.25814435639172,105.63795075630847,160.23739597931342]\n",
    "xconc=[xc1._value,xc2._value,xc3._value]\n",
    "plt.errorbar(xconc,yOP, yerr=yerrs, fmt='o', linestyle='-',color='purple', capsize=5, label='Calculated')\n",
    "plt.plot(xconc,yroux, marker='o', linestyle='-',color='blue', label='Luo & Roux 2010')\n",
    "plt.xlabel(\"Concentration (M)\")\n",
    "plt.ylabel(\"Osmotic Pressure (bar)\")\n",
    "plt.title('Osmotic Pressure for Increasing Concentration')\n",
    "plt.legend()\n",
    "plt.show()"
   ]
  },
  {
   "cell_type": "code",
   "execution_count": 109,
   "metadata": {},
   "outputs": [
    {
     "data": {
      "image/png": "[encoded data removed]",
      "text/plain": [
       "<Figure size 640x480 with 1 Axes>"
      ]
     },
     "metadata": {},
     "output_type": "display_data"
    }
   ],
   "source": [
    "yOP=[m1op._value,m2opl._value,m3opl._value]\n",
    "yerrs=[m1err._value,m2errl._value,m3errl._value]\n",
    "yroux=[49.25814435639172,105.63795075630847,160.23739597931342]\n",
    "xconc=[xc1._value,xc2._value,xc3._value]\n",
    "plt.errorbar(xconc,yOP, yerr=yerrs, fmt='o', linestyle='-',color='purple', capsize=5, label='Calculated')\n",
    "plt.plot(xconc,yroux, marker='o', linestyle='-',color='blue', label='Luo & Roux 2010')\n",
    "plt.xlabel(\"Concentration (M)\")\n",
    "plt.ylabel(\"Osmotic Pressure (bar)\")\n",
    "plt.title('Osmotic Pressure for Increasing Concentration (longer)')\n",
    "plt.legend()\n",
    "plt.show()"
   ]
  },
  {
   "cell_type": "markdown",
   "metadata": {},
   "source": [
    "### Density profiles using GROMACS"
   ]
  },
  {
   "cell_type": "code",
   "execution_count": 112,
   "metadata": {},
   "outputs": [
    {
     "data": {
      "image/png": "[encoded data removed]",
      "text/plain": [
       "<Figure size 640x480 with 1 Axes>"
      ]
     },
     "metadata": {},
     "output_type": "display_data"
    }
   ],
   "source": [
    "x,y = np.loadtxt(\"density_original.xvg\",comments=[\"@\", \"#\"],unpack=True)\n",
    "y=(y/nanometer**3)/(AVOGADRO_CONSTANT_NA)\n",
    "y=y.in_units_of(mole/litre)/2\n",
    "x1,y1 = np.loadtxt(\"dens_2m.xvg\",comments=[\"@\", \"#\"],unpack=True)\n",
    "y1=(y1/nanometer**3)/(AVOGADRO_CONSTANT_NA)\n",
    "y1=y1.in_units_of(mole/litre)/2\n",
    "x2,y2 = np.loadtxt(\"dens_3m.xvg\",comments=[\"@\", \"#\"],unpack=True)\n",
    "y2=(y2/nanometer**3)/(AVOGADRO_CONSTANT_NA)\n",
    "y2=y2.in_units_of(mole/litre)/2\n",
    "plt.axvline(x = 4.8, color = 'gray', label = 'walls', linestyle = 'dashed')\n",
    "plt.axvline(x = 9.6, color = 'gray', linestyle = 'dashed')\n",
    "plt.axhline(y = 0.98, color = 'lightgray', linestyle = 'dashed')\n",
    "plt.axhline(y = 1.92, color = 'lightgray', linestyle = 'dashed')\n",
    "plt.axhline(y = 2.83, color = 'lightgray', linestyle = 'dashed')\n",
    "# plt.plot(zi_values, potential_energy_values, label=r'$V_{\\mathrm{fb}}(z_i)$')\n",
    "plt.plot(x,y, c='purple', label='1m')\n",
    "plt.plot(x1,y1, c='red', label='2m')\n",
    "plt.plot(x2,y2, c='pink', label='3m')\n",
    "plt.xlabel(\"Z coordinate (nm)\")\n",
    "plt.ylabel(\"Molal Concentration (mol/L)\")\n",
    "plt.xticks(np.arange(0, 14.4, 1.0))\n",
    "#plt.yticks(np.arange(0.0, 1.0, 0.1))\n",
    "plt.title('Increasing Concentration - CHARMM27')\n",
    "plt.legend(loc='upper right')\n",
    "plt.show()"
   ]
  },
  {
   "cell_type": "code",
   "execution_count": 113,
   "metadata": {},
   "outputs": [
    {
     "name": "stdout",
     "output_type": "stream",
     "text": [
      "[0.         0.         0.         0.         0.         0.\n",
      " 0.         0.         0.         0.         0.         0.\n",
      " 0.         0.         0.         0.         0.         0.\n",
      " 0.         0.         0.         0.         0.         0.16109969\n",
      " 1.01844182 0.98586204 1.00853671 0.99467951 1.01195742 0.98621906\n",
      " 0.98766373 0.98478269 0.95921869 0.97236186 0.92033717 0.95291695\n",
      " 0.96929817 0.95795669 0.95903604 0.97182219 0.95795669 0.95958401\n",
      " 0.96299642 0.94787721 0.91944048 0.91925782 0.91583711 0.89297979\n",
      " 0.14525981 0.         0.         0.         0.         0.\n",
      " 0.         0.         0.         0.         0.         0.\n",
      " 0.         0.         0.         0.         0.         0.\n",
      " 0.         0.         0.         0.         0.         0.        ] mol/L\n"
     ]
    },
    {
     "data": {
      "image/png": "[encoded data removed]",
      "text/plain": [
       "<Figure size 640x480 with 1 Axes>"
      ]
     },
     "metadata": {},
     "output_type": "display_data"
    }
   ],
   "source": [
    "x,y = np.loadtxt(\"density_original.xvg\",comments=[\"@\", \"#\"],unpack=True)\n",
    "y=(y/nanometer**3)/(AVOGADRO_CONSTANT_NA)\n",
    "y=y.in_units_of(mole/litre)/2\n",
    "print(y)\n",
    "x1,y1 = np.loadtxt(\"dens_2ml.xvg\",comments=[\"@\", \"#\"],unpack=True)\n",
    "y1=(y1/nanometer**3)/(AVOGADRO_CONSTANT_NA)\n",
    "y1=y1.in_units_of(mole/litre)/2\n",
    "x2,y2 = np.loadtxt(\"dens_3ml.xvg\",comments=[\"@\", \"#\"],unpack=True)\n",
    "y2=(y2/nanometer**3)/(AVOGADRO_CONSTANT_NA)\n",
    "y2=y2.in_units_of(mole/litre)/2\n",
    "plt.axvline(x = 4.8, color = 'gray', label = 'walls', linestyle = 'dashed')\n",
    "plt.axvline(x = 9.6, color = 'gray', linestyle = 'dashed')\n",
    "plt.axhline(y = 0.98, color = 'lightgray', linestyle = 'dashed')\n",
    "plt.axhline(y = 1.92, color = 'lightgray', linestyle = 'dashed')\n",
    "plt.axhline(y = 2.83, color = 'lightgray', linestyle = 'dashed')\n",
    "# plt.plot(zi_values, potential_energy_values, label=r'$V_{\\mathrm{fb}}(z_i)$')\n",
    "plt.plot(x,y, c='purple', label='1m')\n",
    "plt.plot(x1,y1, c='red', label='2m')\n",
    "plt.plot(x2,y2, c='pink', label='3m')\n",
    "plt.xlabel(\"Z coordinate (nm)\")\n",
    "plt.ylabel(\"Molal Concentration (mol/L)\")\n",
    "plt.xticks(np.arange(0, 14.4, 1.0))\n",
    "#plt.yticks(np.arange(0.0, 1.0, 0.1))\n",
    "plt.title('Increasing Concentration (longer) - CHARMM27')\n",
    "plt.legend(loc='upper right')\n",
    "plt.show()"
   ]
  },
  {
   "cell_type": "markdown",
   "metadata": {},
   "source": [
    "## Density profiles using MDanalysis"
   ]
  },
  {
   "cell_type": "code",
   "execution_count": 10,
   "metadata": {},
   "outputs": [],
   "source": [
    "def density_profile(universe, atom_group, bin_width=0.5, dim='z', method='atom', frameby=1):\n",
    "    '''Calculate the partial density across the box'''\n",
    "\n",
    "    if isinstance(atom_group, str): # if provided selection language, make AtomGroup\n",
    "        ag = universe.select_atoms(atom_group)\n",
    "    else: # else assume input is AtomGroup\n",
    "        ag = atom_group\n",
    "\n",
    "    print(f'\\nCalculating the partial density profile of {atom_group} in the {dim} dimension...')\n",
    "\n",
    "    dims = {'x': 0, 'y': 1, 'z': 2}\n",
    "    d = dims[dim]\n",
    "    box = universe.dimensions[d]\n",
    "\n",
    "    n_bins = int(box / bin_width)\n",
    "    bins = np.linspace(0, box, num=n_bins)\n",
    "\n",
    "    counts = np.zeros(n_bins-1)\n",
    "        \n",
    "    if len(universe.trajectory) == 0:\n",
    "        for b in tqdm(range(n_bins-1)):\n",
    "            lb = bins[b]\n",
    "            ub = bins[b+1]\n",
    "            bin_atoms = universe.select_atoms(f'prop {dim} > {lb} and prop {dim} < {ub} and group ag', ag=ag)\n",
    "            if method in ['atom', 'atoms', 'all']:\n",
    "                counts[b] += len(bin_atoms)\n",
    "            elif method in ['molecule', 'mol', 'residue', 'res']: \n",
    "                counts[b] += bin_atoms.n_residues\n",
    "            elif method in ['mass', 'mass density']:\n",
    "                box_dims = [box[i] for i in range(3) if i != d]\n",
    "                dV = box_dims[0] * box_dims[1] * (ub-lb) * (10**-8)**3\n",
    "                mass = bin_atoms.masses.sum() / 6.022 / 10**23\n",
    "                counts[b] += mass / dV\n",
    "    else:\n",
    "        for ts in tqdm(universe.trajectory[::frameby]):\n",
    "            for b in range(n_bins-1):\n",
    "                lb = bins[b]\n",
    "                ub = bins[b+1]\n",
    "                bin_atoms = universe.select_atoms(f'prop {dim} > {lb} and prop {dim} < {ub} and group ag', ag=ag)\n",
    "\n",
    "                if method in ['atom', 'atoms', 'all', 'number']:\n",
    "                    counts[b] += len(bin_atoms)                 \n",
    "                elif method in ['molecule', 'mol', 'residue', 'res']: \n",
    "                    counts[b] += bin_atoms.n_residues\n",
    "                elif method in ['mass', 'mass density']:\n",
    "                    box_dims = [box[i] for i in range(3) if i != d]\n",
    "                    dV = box_dims[0] * box_dims[1] * (ub-lb) * (10**-8)**3\n",
    "                    mass = bin_atoms.masses.sum() / 6.022 / 10**23\n",
    "                    counts[b] += mass / dV\n",
    "\n",
    "        counts = counts / len(universe.trajectory[::frameby])\n",
    "\n",
    "    return bins, counts"
   ]
  },
  {
   "cell_type": "code",
   "execution_count": 11,
   "metadata": {},
   "outputs": [
    {
     "ename": "NameError",
     "evalue": "name 'u1' is not defined",
     "output_type": "error",
     "traceback": [
      "\u001b[0;31m---------------------------------------------------------------------------\u001b[0m",
      "\u001b[0;31mNameError\u001b[0m                                 Traceback (most recent call last)",
      "Cell \u001b[0;32mIn[11], line 1\u001b[0m\n\u001b[0;32m----> 1\u001b[0m nbins1_old,ncounts1_old\u001b[38;5;241m=\u001b[39mdensity_profile(\u001b[43mu1\u001b[49m,ions,\u001b[38;5;241m2\u001b[39m)\n",
      "\u001b[0;31mNameError\u001b[0m: name 'u1' is not defined"
     ]
    }
   ],
   "source": [
    "nbins1_old,ncounts1_old=density_profile(u1,ions,2)"
   ]
  },
  {
   "cell_type": "code",
   "execution_count": null,
   "metadata": {},
   "outputs": [],
   "source": [
    "def density_fprofile(universe, atom_group, bin_width=0.5, dim='z', method='atom', frameby=1):\n",
    "    '''Calculate the partial density across the box'''\n",
    "\n",
    "    if isinstance(atom_group, str): # if provided selection language, make AtomGroup\n",
    "        ag = universe.select_atoms(atom_group)\n",
    "    else: # else assume input is AtomGroup\n",
    "        ag = atom_group\n",
    "\n",
    "    print(f'\\nCalculating the partial density profile of {atom_group} in the {dim} dimension...')\n",
    "\n",
    "    dims = {'x': 0, 'y': 1, 'z': 2}\n",
    "    d = dims[dim]\n",
    "    box = universe.dimensions[d]\n",
    "\n",
    "    n_bins = int(box / bin_width)\n",
    "    print(box,n_bins,bin_width)\n",
    "    bins = np.linspace(0, box, num=n_bins)\n",
    "\n",
    "    bin_atoms = universe.select_atoms(f'group ag', ag=ag)\n",
    "    ion_indices = bin_atoms.indices\n",
    "    nframes = len(universe.trajectory[::frameby])\n",
    "    thisto = np.zeros([n_bins-1,nframes])\n",
    "    ztraj = np.zeros([len(bin_atoms),nframes])    \n",
    "    for i,ts in enumerate(tqdm(universe.trajectory[::frameby])):\n",
    "        ztraj[:,i]= ts.positions[:,d][ion_indices]\n",
    "        # calculate the histogram at each time point\n",
    "        counts = np.histogram(ztraj[:,i],bins=bins)\n",
    "        thisto[:,i] = counts[0]\n",
    "    # we now have ztraj, get overall histogram\n",
    "    counts = np.histogram(ztraj,bins=bins)\n",
    "    return bins, counts[0], thisto"
   ]
  },
  {
   "cell_type": "code",
   "execution_count": null,
   "metadata": {},
   "outputs": [],
   "source": [
    "newbins1,newcounts1,thisto1 = density_fprofile(u1,ions,bin_width=2.0,dim='z')"
   ]
  },
  {
   "cell_type": "markdown",
   "metadata": {},
   "source": [
    "This new way of doing the counts is the same (it's the total counts, not counts per frame)"
   ]
  },
  {
   "cell_type": "code",
   "execution_count": null,
   "metadata": {},
   "outputs": [],
   "source": [
    "newcounts1-ncounts1_old*1001"
   ]
  },
  {
   "cell_type": "markdown",
   "metadata": {},
   "source": [
    "Now find the statistical inefficiencies of the histogram time series."
   ]
  },
  {
   "cell_type": "code",
   "execution_count": null,
   "metadata": {},
   "outputs": [],
   "source": [
    "ncorrs = len(thisto1[:,0])\n",
    "corrs = np.zeros(ncorrs)\n",
    "for i in range(ncorrs):\n",
    "    tsum = np.sum(thisto1[i])\n",
    "    if tsum !=0:\n",
    "        corrs[i] = timeseries.statistical_inefficiency(thisto1[i])"
   ]
  },
  {
   "cell_type": "code",
   "execution_count": null,
   "metadata": {},
   "outputs": [],
   "source": [
    "plt.plot(corrs)\n",
    "plt.ylabel('statistical_efficiency')\n",
    "plt.xlabel('bin_index')\n",
    "plt.show()"
   ]
  },
  {
   "cell_type": "markdown",
   "metadata": {},
   "source": [
    "Now get all three replicate ncounts"
   ]
  },
  {
   "cell_type": "code",
   "execution_count": null,
   "metadata": {},
   "outputs": [],
   "source": [
    "nbins1,ncounts1,thisto1=density_fprofile(u1,ions1,2)\n",
    "nbins2,ncounts2,thisto2=density_fprofile(u2,ions2,2)\n",
    "nbins3,ncounts3,thisto3=density_fprofile(u3,ions3,2)"
   ]
  },
  {
   "cell_type": "markdown",
   "metadata": {},
   "source": [
    "### Effect of changing number of bins"
   ]
  },
  {
   "cell_type": "markdown",
   "metadata": {},
   "source": [
    "There are 130 total ions in the system. About 25 bins in the middle are occupied. There are 1001 simulation frames, so we would expect somewhere around 5200 counts in each bin.\n",
    "\n",
    "We can treat this as a multinomial problem, with p_i at each point. If each frame is uncorrelated, the expectation at each point is 1001$\\times$130$\\times p_i$ = ncounts. So we can approximate each $p_i$ as ncounts/(1001$\\times$130)."
   ]
  },
  {
   "cell_type": "code",
   "execution_count": null,
   "metadata": {},
   "outputs": [],
   "source": [
    "# https://en.wikipedia.org/wiki/Multinomial_distribution    \n",
    "# total observations\n",
    "# assume there is a multinomial distribution \n",
    "# with a probability of each bin being the observed probability \n",
    "\n",
    "nions = 130\n",
    "nframes = 1001"
   ]
  },
  {
   "cell_type": "code",
   "execution_count": null,
   "metadata": {},
   "outputs": [],
   "source": [
    "pi = ncounts1/(nions*1001) # since each ncounts is already divided by 1001"
   ]
  },
  {
   "cell_type": "code",
   "execution_count": null,
   "metadata": {},
   "outputs": [],
   "source": [
    "np.sum(pi) # these probabilities are properly normalized"
   ]
  },
  {
   "cell_type": "code",
   "execution_count": null,
   "metadata": {},
   "outputs": [],
   "source": []
  },
  {
   "cell_type": "markdown",
   "metadata": {},
   "source": [
    "The variance in the number of counts will be $(1001 \\times 130)(p_i)(1-p_i)$, so the standard deviation will be the square root of that.\n"
   ]
  },
  {
   "cell_type": "code",
   "execution_count": null,
   "metadata": {},
   "outputs": [],
   "source": [
    "stds_multinomial = np.sqrt(nframes*nions*pi*(1-pi))\n",
    "print(stds_multinomial)"
   ]
  },
  {
   "cell_type": "markdown",
   "metadata": {},
   "source": [
    "This is the standard deviation in the count number.  We should be seeing a count number of 5000 +/- 70. We are are interested in the standard deviation of the average count number, which we divide by nframes."
   ]
  },
  {
   "cell_type": "markdown",
   "metadata": {},
   "source": [
    "Note that this can be approximated for large numbers of bins by simply the square root of the number of bins.  Which turns out to be almost exactly the same!"
   ]
  },
  {
   "cell_type": "code",
   "execution_count": null,
   "metadata": {},
   "outputs": [],
   "source": [
    "stds_simpler = np.sqrt(ncounts1)\n",
    "print(stds_simpler)\n",
    "print(stds_simpler/stds_multinomial)"
   ]
  },
  {
   "cell_type": "markdown",
   "metadata": {},
   "source": [
    "However, if we look at the variation between replicates, it's larger than this simple spread."
   ]
  },
  {
   "cell_type": "code",
   "execution_count": null,
   "metadata": {},
   "outputs": [],
   "source": [
    "replicates = np.vstack([ncounts1,ncounts2,ncounts3])\n",
    "vals = np.mean(replicates,axis=0)\n",
    "errs = np.std(replicates,axis=0,ddof=1) # std\n",
    "print(vals)\n",
    "print(errs)\n",
    "# the variation in the replicates are much bigger"
   ]
  },
  {
   "cell_type": "markdown",
   "metadata": {},
   "source": [
    "One reason could be that we have fewer effective samples.  Thus, the fractional standard deviation should actually be larger by sqrt(ncorr)."
   ]
  },
  {
   "cell_type": "code",
   "execution_count": null,
   "metadata": {},
   "outputs": [],
   "source": [
    "stds_corrected = stds_multinomial*np.sqrt(corrs)"
   ]
  },
  {
   "cell_type": "code",
   "execution_count": null,
   "metadata": {},
   "outputs": [],
   "source": [
    "plt.plot(stds_corrected,label='multinomial std corrected with correlation time')\n",
    "plt.plot(errs,label='std from replicates')\n",
    "plt.ylabel('standard deviations two ways')\n",
    "plt.xlabel('bin index')\n",
    "plt.legend()\n",
    "plt.show()"
   ]
  },
  {
   "cell_type": "markdown",
   "metadata": {},
   "source": [
    "This looks more reasonable!"
   ]
  },
  {
   "cell_type": "code",
   "execution_count": null,
   "metadata": {},
   "outputs": [],
   "source": [
    "# turn it in to a function\n",
    "def stdbycount(ncounts,thisto,nions=130,nframes=1001,):\n",
    "    pi = ncounts/(nions*nframes)\n",
    "    stds_multinomial = np.sqrt(nframes*nions*pi*(1-pi))\n",
    "    ncorrs = len(thisto[:,0])\n",
    "    corrs = np.zeros(ncorrs)\n",
    "    for i in range(ncorrs):\n",
    "        tsum = np.sum(thisto[i])\n",
    "        if tsum !=0:\n",
    "            corrs[i] = timeseries.statistical_inefficiency(thisto[i])\n",
    "    return stds_multinomial*np.sqrt(corrs)"
   ]
  },
  {
   "cell_type": "code",
   "execution_count": null,
   "metadata": {},
   "outputs": [],
   "source": [
    "std1 = stdbycount(ncounts1,thisto1)\n",
    "std2 = stdbycount(ncounts2,thisto2)\n",
    "std3 = stdbycount(ncounts3,thisto3)"
   ]
  },
  {
   "cell_type": "code",
   "execution_count": null,
   "metadata": {},
   "outputs": [],
   "source": [
    "# this doesn't look so bad - they MOSTLY agree.\n",
    "plt.plot(std1,label='multinomial w/ correlation 1')\n",
    "plt.plot(std2,label='multinomial w/ correlation 2')\n",
    "plt.plot(std3,label='multinomial w/ correlation 3')\n",
    "plt.plot(errs,label='std from replicates')\n",
    "plt.ylabel('standard deviations two ways')\n",
    "plt.xlabel('bin index')\n",
    "plt.legend()\n",
    "plt.show()"
   ]
  },
  {
   "cell_type": "markdown",
   "metadata": {},
   "source": [
    "Theey generally look consistent; a bit noisy, but statistical inefficiency is noisy."
   ]
  },
  {
   "cell_type": "code",
   "execution_count": null,
   "metadata": {},
   "outputs": [],
   "source": [
    "# mean standard deviation from 3 replicates\n",
    "stdall = np.sqrt((std1**2+std2**2+std3**2)/3)"
   ]
  },
  {
   "cell_type": "code",
   "execution_count": null,
   "metadata": {},
   "outputs": [],
   "source": [
    "replicates = np.vstack([ncounts1,ncounts2,ncounts3])\n",
    "vals = np.mean(replicates,axis=0)\n",
    "errs = np.std(replicates,axis=0,ddof=1)\n",
    "# error in the mean,so divide by sqrt(3)\n",
    "plt.errorbar(nbins1[1:],vals,yerr=errs/np.sqrt(3),capsize=3,c='b',alpha=0.3,label='replicates')\n",
    "plt.errorbar(nbins1[1:],vals,yerr=stdall/np.sqrt(3),capsize=3,c='r',alpha=0.3,label='counts')\n",
    "plt.ylabel('total counts')\n",
    "plt.xlabel('z distance')\n",
    "plt.legend()\n",
    "plt.show()"
   ]
  },
  {
   "cell_type": "markdown",
   "metadata": {},
   "source": [
    "When looking at the error in the mean over 3 replicates, the red and blue error bars look reasonably similar. The red bars a little lower, but the blue bars were from 3 replicates, so are pretty noisy. We thus conclude the amount of error is consistent."
   ]
  },
  {
   "cell_type": "code",
   "execution_count": null,
   "metadata": {},
   "outputs": [],
   "source": []
  }
 ],
 "metadata": {
  "kernelspec": {
   "display_name": "Python 3 (ipykernel)",
   "language": "python",
   "name": "python3"
  },
  "language_info": {
   "codemirror_mode": {
    "name": "ipython",
    "version": 3
   },
   "file_extension": ".py",
   "mimetype": "text/x-python",
   "name": "python",
   "nbconvert_exporter": "python",
   "pygments_lexer": "ipython3",
   "version": "3.10.13"
  }
 },
 "nbformat": 4,
 "nbformat_minor": 2
}
