{
 "cells": [
  {
   "cell_type": "code",
   "execution_count": 1,
   "metadata": {},
   "outputs": [
    {
     "name": "stderr",
     "output_type": "stream",
     "text": [
      "/tmp/ipykernel_959972/3919984661.py:3: DeprecationWarning: \n",
      "Pyarrow will become a required dependency of pandas in the next major release of pandas (pandas 3.0),\n",
      "(to allow more performant data types, such as the Arrow string type, and better interoperability with other libraries)\n",
      "but was not found to be installed on your system.\n",
      "If this would cause problems for you,\n",
      "please provide us feedback at https://github.com/pandas-dev/pandas/issues/54466\n",
      "        \n",
      "  import pandas as pd\n"
     ]
    }
   ],
   "source": [
    "import MDAnalysis as mda\n",
    "import numpy as np\n",
    "import pandas as pd\n",
    "import matplotlib.pyplot as plt\n",
    "from MDAnalysis.lib.distances import distance_array"
   ]
  },
  {
   "cell_type": "markdown",
   "metadata": {},
   "source": [
    "## Loading data and creating atom group of ions"
   ]
  },
  {
   "cell_type": "code",
   "execution_count": 2,
   "metadata": {},
   "outputs": [
    {
     "name": "stdout",
     "output_type": "stream",
     "text": [
      "<Universe with 8223 atoms> \n",
      " <AtomGroup [<Atom 1: OW of type O of resname SOL, resid 49 and segid SYSTEM>, <Atom 2: HW1 of type H of resname SOL, resid 49 and segid SYSTEM>, <Atom 3: HW2 of type H of resname SOL, resid 49 and segid SYSTEM>, ..., <Atom 8221: OW of type O of resname SOL, resid 2757 and segid SYSTEM>, <Atom 8222: HW1 of type H of resname SOL, resid 2757 and segid SYSTEM>, <Atom 8223: HW2 of type H of resname SOL, resid 2757 and segid SYSTEM>]> \n",
      " <XTCReader md.xtc with 251 frames of 8223 atoms>\n",
      "96\n",
      "251\n"
     ]
    }
   ],
   "source": [
    "import MDAnalysis as mda\n",
    "u = mda.Universe('md.gro', 'md.xtc')\n",
    "print(u, '\\n', u.atoms, '\\n', u.trajectory)\n",
    "\n",
    "ions= u.select_atoms('resname NA CL')\n",
    "print(len(ions))\n",
    "\n",
    "print(len(u.trajectory))"
   ]
  },
  {
   "cell_type": "markdown",
   "metadata": {},
   "source": [
    "## Function for calculating osmotic values:"
   ]
  },
  {
   "cell_type": "code",
   "execution_count": 3,
   "metadata": {},
   "outputs": [],
   "source": [
    "k_joules_per_nm2 = 1000 \n",
    "k_joules_per_angstrom2 = k_joules_per_nm2/100 #force constant (k) 1000(kJ/mol/nm^2) to (kJ/mol/A^2)\n",
    "\n",
    "\n",
    "def osmotic_values(mean_force_wall,molarity):\n",
    "    cross_sectional_area=30*30 #A^2 \n",
    "    osm_press=mean_force_wall/cross_sectional_area\n",
    "    bar=osm_press*1000/(6.022e23*1e-27*101.32) #kJ/mol/A^3 to bar\n",
    "    print(f\"Osmotic Pressure:\", \"%.2f\"%bar, \"bar\")\n",
    "    R_idgas=8.314\n",
    "    temp=300\n",
    "    v_H2O=2\n",
    "    osm_coeff=(bar/(v_H2O*molarity*R_idgas*temp))*101.32 #Osmotic pressure to osmotic coefficient\n",
    "    print(f\"Osmotic Coefficient:\", \"%.2f\"%osm_coeff)\n"
   ]
  },
  {
   "cell_type": "markdown",
   "metadata": {},
   "source": [
    "## Attempt #1"
   ]
  },
  {
   "cell_type": "code",
   "execution_count": 4,
   "metadata": {},
   "outputs": [
    {
     "name": "stdout",
     "output_type": "stream",
     "text": [
      "Mean Force from wall at 30 A: 15058.08 kJ mol^-1 A^-1\n",
      "Mean Force from wall at 60 A: 13630.02 kJ mol^-1 A^-1\n",
      "Total Mean Force from two walls: 14344.05 kJ mol^-1 A^-1\n",
      "Osmotic Pressure: 261212.06 bar\n",
      "Osmotic Coefficient: 5413.79\n"
     ]
    }
   ],
   "source": [
    "z_wall=[30,60] # location of wall in z direction in Angstroms\n",
    "av_meanF=[]\n",
    "for z_w in z_wall:\n",
    "    z_diff = np.zeros(len(u.trajectory))\n",
    "\n",
    "    for i,ts in enumerate(u.trajectory[1:]):\n",
    "        z_diff[i]=np.abs(ions.positions[:,2] - z_w).sum()\n",
    "\n",
    "    av_fwall=z_diff.mean()*k_joules_per_angstrom2\n",
    "    print(f\"Mean Force from wall at {z_w} A:\", \"%.2f\"%av_fwall, \"kJ mol^-1 A^-1\")\n",
    "    av_meanF.append(av_fwall)\n",
    "\n",
    "total_av_meanF=np.average(av_meanF)\n",
    "print(f\"Total Mean Force from two walls:\", \"%.2f\"%total_av_meanF, \"kJ mol^-1 A^-1\")\n",
    "\n",
    "osmotic_values(total_av_meanF,0.98)"
   ]
  },
  {
   "cell_type": "markdown",
   "metadata": {},
   "source": [
    "## Attempt #2\n",
    "\n",
    "The Euclidean distance simplifies to the absolute value of the difference in the z-direction because the wall is parallel to the x-y plane and I am only interested in the z-coordinate differences"
   ]
  },
  {
   "cell_type": "code",
   "execution_count": 14,
   "metadata": {},
   "outputs": [
    {
     "name": "stdout",
     "output_type": "stream",
     "text": [
      "Mean Euclidean Distance to wall at 30 Å: 157.48 Å\n",
      "Mean Euclidean Distance to wall at 60 Å: 142.55 Å\n",
      "Total Mean Force from two walls: 150.01 kJ mol^-1 A^-1\n",
      "Osmotic Pressure: 2731.84 bar\n",
      "Osmotic Coefficient: 56.62\n"
     ]
    }
   ],
   "source": [
    "z_wall=[30,60] # location of wall in z direction in Angstroms\n",
    "av_meanF=[]\n",
    "\n",
    "for z_w in z_wall:\n",
    "   \n",
    "   av_dists = np.zeros(len(u.trajectory))\n",
    "\n",
    "   for i, ts in enumerate(u.trajectory):\n",
    "      z_diff= np.abs(ions.positions[:, 2] - z_w)  # Absolute difference between ion z-positions and z_wall for this frame\n",
    "      av_dists[i] = z_diff.mean()    # Average distance for this frame\n",
    "\n",
    "   # Calculating the overall average distance across all frames multiplied by k (force constant)\n",
    "   av_fwall = k_joules_per_angstrom2*av_dists.mean()\n",
    "   print(f\"Mean Euclidean Distance to wall at {z_w} Å:\", \"%.2f\"%av_fwall, \"Å\")\n",
    "   av_meanF.append(av_fwall)\n",
    "\n",
    "total_av_meanF=np.average(av_meanF)\n",
    "print(f\"Total Mean Force from two walls:\", \"%.2f\"%total_av_meanF, \"kJ mol^-1 A^-1\")\n",
    "\n",
    "osmotic_values(total_av_meanF,0.98)"
   ]
  },
  {
   "cell_type": "markdown",
   "metadata": {},
   "source": [
    "Without multiplying by k constant:"
   ]
  },
  {
   "cell_type": "code",
   "execution_count": 17,
   "metadata": {},
   "outputs": [
    {
     "name": "stdout",
     "output_type": "stream",
     "text": [
      "Mean Euclidean Distance to wall at 30 Å: 15.75 Å\n",
      "Mean Euclidean Distance to wall at 60 Å: 14.26 Å\n",
      "Total Mean Force from two walls: 15.00 kJ mol^-1 A^-1\n",
      "Osmotic Pressure: 273.18 bar\n",
      "Osmotic Coefficient: 5.66\n"
     ]
    }
   ],
   "source": [
    "z_wall=[30,60] # location of wall in z direction in Angstroms\n",
    "av_meanF=[]\n",
    "\n",
    "for z_w in z_wall:\n",
    "   \n",
    "   av_dists = np.zeros(len(u.trajectory))\n",
    "\n",
    "   for i, ts in enumerate(u.trajectory):\n",
    "      z_diff= np.abs(ions.positions[:, 2] - z_w)  # Absolute difference between ion z-positions and z_wall for this frame\n",
    "      av_dists[i] = z_diff.mean()    # Average distance for this frame\n",
    "\n",
    "   # Calculating the overall average distance across all frames \n",
    "   av_fwall = av_dists.mean()\n",
    "   print(f\"Mean Euclidean Distance to wall at {z_w} Å:\", \"%.2f\"%av_fwall, \"Å\")\n",
    "   av_meanF.append(av_fwall)\n",
    "\n",
    "total_av_meanF=np.average(av_meanF)\n",
    "print(f\"Total Mean Force from two walls:\", \"%.2f\"%total_av_meanF, \"kJ mol^-1 A^-1\")\n",
    "\n",
    "osmotic_values(total_av_meanF,0.98)"
   ]
  },
  {
   "cell_type": "code",
   "execution_count": null,
   "metadata": {},
   "outputs": [],
   "source": []
  }
 ],
 "metadata": {
  "kernelspec": {
   "display_name": "mdanalysis",
   "language": "python",
   "name": "python3"
  },
  "language_info": {
   "codemirror_mode": {
    "name": "ipython",
    "version": 3
   },
   "file_extension": ".py",
   "mimetype": "text/x-python",
   "name": "python",
   "nbconvert_exporter": "python",
   "pygments_lexer": "ipython3",
   "version": "3.10.13"
  }
 },
 "nbformat": 4,
 "nbformat_minor": 2
}
