{
 "cells": [
  {
   "cell_type": "code",
   "execution_count": 1,
   "metadata": {},
   "outputs": [],
   "source": [
    "import numpy as np\n",
    "import math\n",
    "import sys\n",
    "import mpmath\n",
    "sys.modules['sympy.mpmath'] = mpmath\n",
    "from openmm.unit import AVOGADRO_CONSTANT_NA, BOLTZMANN_CONSTANT_kB\n",
    "from openmm.unit import kelvin, bar, litre, kilojoule_per_mole, mole, nanometer, angstrom, kilocalorie_per_mole,molar,molal\n",
    "from openmm.unit import Quantity, Unit\n",
    "import sympy as sp\n",
    "from sympy import symbols, Function, log, Sum\n",
    "from sympy.abc import x, y, z\n",
    "import scipy.integrate\n",
    "import matplotlib.pyplot as plt\n",
    "from scipy.special import erf\n",
    "from scipy.optimize import root"
   ]
  },
  {
   "cell_type": "markdown",
   "metadata": {},
   "source": [
    "## Analytical solution"
   ]
  },
  {
   "cell_type": "code",
   "execution_count": 2,
   "metadata": {},
   "outputs": [],
   "source": [
    "R = BOLTZMANN_CONSTANT_kB * AVOGADRO_CONSTANT_NA\n",
    "\n",
    "def calc_solute_conc(C_max : Quantity, potential : Quantity, T : Quantity=300*kelvin) -> Quantity:\n",
    "    '''Determine solute concentration'''\n",
    "    return C_max * np.exp(-potential / (R * T))\n",
    "\n",
    "def potential_harmonic(z : Quantity, k : Quantity) -> Quantity:\n",
    "    '''Get simple quadratic harmonic potential'''\n",
    "    return (k * z**2) / 2\n"
   ]
  },
  {
   "cell_type": "code",
   "execution_count": 3,
   "metadata": {},
   "outputs": [],
   "source": [
    "N = 100\n",
    "\n",
    "L_z = 144.0 * angstrom\n",
    "z = np.linspace(-L_z._value/2, L_z._value/2, num=N)\n",
    "\n",
    "C_max = 1.0 * litre**-1\n",
    "k = 4.184 * kilojoule_per_mole / nanometer**2\n",
    "\n",
    "T = 300 * kelvin"
   ]
  },
  {
   "cell_type": "code",
   "execution_count": 4,
   "metadata": {},
   "outputs": [
    {
     "name": "stdout",
     "output_type": "stream",
     "text": [
      "1.920538205575867 /L\n"
     ]
    },
    {
     "data": {
      "image/png": "[encoded data removed]",
      "text/plain": [
       "<Figure size 640x480 with 1 Axes>"
      ]
     },
     "metadata": {},
     "output_type": "display_data"
    }
   ],
   "source": [
    "pots = potential_harmonic(z*nanometer, k=k)\n",
    "\n",
    "C_s = calc_solute_conc(C_max, potential=pots, T=T)\n",
    "plt.plot(z, C_s)\n",
    "\n",
    "I = scipy.integrate.simpson(C_s, x=z) * C_s.unit\n",
    "print(I)"
   ]
  },
  {
   "cell_type": "markdown",
   "metadata": {},
   "source": [
    "## Numerical Solution"
   ]
  },
  {
   "cell_type": "code",
   "execution_count": 5,
   "metadata": {},
   "outputs": [],
   "source": [
    "def calc_C_max_from_spring_const(k : Quantity, box_dims : np.ndarray, N_ions : int, T : Quantity=300*kelvin) -> Quantity:\n",
    "    Lx, Ly, Lz = box_dims\n",
    "    A = Lx * Ly\n",
    "    K = k / (2 * R * T)\n",
    "    Ksq = np.sqrt(K._value) * (1*K.unit).sqrt()\n",
    "\n",
    "    Cmax = (N/A * Ksq) / (np.sqrt(np.pi) * erf(Lz / (2 * Ksq)))\n",
    "    Cmax = (Cmax / AVOGADRO_CONSTANT_NA).in_units_of(molar)\n",
    "\n",
    "    return Cmax\n",
    "\n",
    "Cmax_target = 1 * molar\n",
    "\n",
    "def Cmax_for_roots(k : float) -> float:\n",
    "    return calc_C_max_from_spring_const(\n",
    "        k * kilojoule_per_mole/nanometer**2,\n",
    "        box_dims=np.array([48.0, 48.0, 144.0]) * angstrom,\n",
    "        N_ions=130,\n",
    "        T=300*kelvin\n",
    "    ) - Cmax_target"
   ]
  },
  {
   "cell_type": "code",
   "execution_count": 6,
   "metadata": {},
   "outputs": [
    {
     "name": "stdout",
     "output_type": "stream",
     "text": [
      "Cmax from spring constant:  3.7238725323503536 M\n"
     ]
    }
   ],
   "source": [
    "Cmax = calc_C_max_from_spring_const(\n",
    "    k=4.184 * kilojoule_per_mole/nanometer**2,\n",
    "    box_dims=np.array([48.0, 48.0, 144.0]) * angstrom,\n",
    "    N_ions=130,\n",
    "    T=300*kelvin\n",
    ")\n",
    "print('Cmax from spring constant: ',Cmax)"
   ]
  },
  {
   "cell_type": "code",
   "execution_count": 10,
   "metadata": {},
   "outputs": [
    {
     "name": "stdout",
     "output_type": "stream",
     "text": [
      "Cmax for root:  2.7238725323503536 M\n"
     ]
    }
   ],
   "source": [
    "Cmax=Cmax_for_roots(4.184)\n",
    "print('Cmax for root: ',Cmax)"
   ]
  },
  {
   "cell_type": "code",
   "execution_count": 12,
   "metadata": {},
   "outputs": [
    {
     "name": "stdout",
     "output_type": "stream",
     "text": [
      "Estimated force constant:  [0.30171859] \n",
      "\n"
     ]
    },
    {
     "name": "stderr",
     "output_type": "stream",
     "text": [
      "/home/bamo6610/miniconda3/envs/calculus/lib/python3.10/site-packages/openmm/unit/quantity.py:414: RuntimeWarning: divide by zero encountered in reciprocal\n",
      "  return self * pow(other, -1.0)\n"
     ]
    }
   ],
   "source": [
    "soln = root(lambda k : Cmax_for_roots(k)._value, np.float64(0.0))\n",
    "print('Estimated force constant: ',soln.x,\"\\n\")"
   ]
  },
  {
   "cell_type": "code",
   "execution_count": 9,
   "metadata": {},
   "outputs": [],
   "source": [
    "# x = np.linspace(-3, 3)\n",
    "# y = erf(x)\n",
    "# plt.plot(x, y)"
   ]
  }
 ],
 "metadata": {
  "kernelspec": {
   "display_name": "Python 3",
   "language": "python",
   "name": "python3"
  },
  "language_info": {
   "codemirror_mode": {
    "name": "ipython",
    "version": 3
   },
   "file_extension": ".py",
   "mimetype": "text/x-python",
   "name": "python",
   "nbconvert_exporter": "python",
   "pygments_lexer": "ipython3",
   "version": "3.10.13"
  }
 },
 "nbformat": 4,
 "nbformat_minor": 2
}
