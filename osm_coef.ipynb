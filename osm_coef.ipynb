{
 "cells": [
  {
   "cell_type": "code",
   "execution_count": 2,
   "metadata": {},
   "outputs": [],
   "source": [
    "def osmotic_coeff(soln_chp,water_chp,m_solute):\n",
    "    r_cnst=8.314\n",
    "    temp=300\n",
    "    mm_water=0.01801\n",
    "    soln_chp=soln_chp*1000\n",
    "    water_chp=water_chp*1000\n",
    "    osmco=-(soln_chp-water_chp)/(r_cnst*temp*mm_water*m_solute*2)\n",
    "    return print('Osmotic Coefficient is '+'%.2f'%osmco)"
   ]
  },
  {
   "cell_type": "code",
   "execution_count": 3,
   "metadata": {},
   "outputs": [
    {
     "name": "stdout",
     "output_type": "stream",
     "text": [
      "Osmotic Coefficient is 11.48\n",
      "Osmotic Coefficient is 10.32\n",
      "Osmotic Coefficient is 12.79\n",
      "Osmotic Coefficient is 15.48\n",
      "Osmotic Coefficient is 16.20\n",
      "Osmotic Coefficient is 17.68\n"
     ]
    }
   ],
   "source": [
    "osmotic_coeff(24.554,25.173,0.6)\n",
    "osmotic_coeff(24.246,25.173,1)\n",
    "osmotic_coeff(22.874,25.173,2)\n",
    "osmotic_coeff(21.002,25.173,3)\n",
    "osmotic_coeff(19.353,25.173,4)\n",
    "osmotic_coeff(17.232,25.173,5)"
   ]
  },
  {
   "cell_type": "code",
   "execution_count": 4,
   "metadata": {},
   "outputs": [
    {
     "name": "stdout",
     "output_type": "stream",
     "text": [
      "Osmotic Coefficient is 9.58\n",
      "Osmotic Coefficient is 10.32\n",
      "Osmotic Coefficient is 12.45\n",
      "Osmotic Coefficient is 15.12\n",
      "Osmotic Coefficient is 16.06\n",
      "Osmotic Coefficient is 17.49\n"
     ]
    }
   ],
   "source": [
    "osmotic_coeff(24.4719,24.9885,0.6)\n",
    "osmotic_coeff(24.0609,24.9885,1)\n",
    "osmotic_coeff(22.7513,24.9885,2)\n",
    "osmotic_coeff(20.9126,24.9885,3)\n",
    "osmotic_coeff(19.2161,24.9885,4)\n",
    "osmotic_coeff(17.1323,24.9885,5)"
   ]
  },
  {
   "cell_type": "code",
   "execution_count": null,
   "metadata": {},
   "outputs": [],
   "source": []
  }
 ],
 "metadata": {
  "kernelspec": {
   "display_name": "gromacs",
   "language": "python",
   "name": "python3"
  },
  "language_info": {
   "codemirror_mode": {
    "name": "ipython",
    "version": 3
   },
   "file_extension": ".py",
   "mimetype": "text/x-python",
   "name": "python",
   "nbconvert_exporter": "python",
   "pygments_lexer": "ipython3",
   "version": "3.11.5"
  },
  "orig_nbformat": 4
 },
 "nbformat": 4,
 "nbformat_minor": 2
}
